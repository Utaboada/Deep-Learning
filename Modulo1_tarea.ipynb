{
  "cells": [
    {
      "cell_type": "markdown",
      "id": "prospective-america",
      "metadata": {
        "id": "prospective-america"
      },
      "source": [
        "Dado que el entrenamiento de redes neuronales es una tarea  muy costosa, **se recomienda ejecutar el notebooks en [Google Colab](https://colab.research.google.com)**, por supuesto también se puede ejecutar en local.\n",
        "\n",
        "Al entrar en [Google Colab](https://colab.research.google.com) bastará con hacer click en `upload` y subir este notebook. No olvide luego descargarlo en `File->Download .ipynb`\n",
        "\n",
        "**El examen deberá ser entregado con las celdas ejecutadas, si alguna celda no está ejecutadas no se contará.**"
      ]
    },
    {
      "cell_type": "markdown",
      "id": "novel-stewart",
      "metadata": {
        "id": "novel-stewart"
      },
      "source": [
        "El examen se divide en tres partes, con la puntuación que se indica a continuación. La puntuación máxima será 10.\n",
        "\n",
        "- [Actividad 1: Redes Densas](#actividad_1): 4 pts\n",
        "    - Correcta normalización: máximo de 0.25 pts\n",
        "    - [Cuestión 1](#1.1): 1 pt\n",
        "    - [Cuestión 2](#1.2): 1 pt\n",
        "    - [Cuestión 3](#1.3): 0.5 pts\n",
        "    - [Cuestión 4](#1.4): 0.25 pts\n",
        "    - [Cuestión 5](#1.5): 0.25 pts\n",
        "    - [Cuestión 6](#1.6): 0.25 pts\n",
        "    - [Cuestión 7](#1.7): 0.25 pts\n",
        "    - [Cuestión 8](#1.8): 0.25 pts\n",
        "\n",
        "\n",
        "- [Actividad 2: Redes Convolucionales](#actividad_2): 4 pts\n",
        "    - [Cuestión 1](#2.1): 1 pt\n",
        "    - [Cuestión 2](#2.2): 1.5 pt\n",
        "    - [Cuestión 3](#2.3): 0.5 pts\n",
        "    - [Cuestión 4](#2.4): 0.25 pts\n",
        "    - [Cuestión 5](#2.5): 0.25 pts\n",
        "    - [Cuestión 6](#2.6): 0.25 pts\n",
        "    - [Cuestión 7](#2.7): 0.25 pts\n",
        "    \n",
        "    \n",
        "- [Actividad 3: Redes Recurrentes](#actividad_3): 2 pts\n",
        "    - [Cuestión 1](#3.1): 0.5 pt\n",
        "    - [Cuestión 2](#3.2): 0.5 pt\n",
        "    - [Cuestión 3](#3.3): 0.5 pts\n",
        "    - [Cuestión 4](#3.4): 0.25 pts\n",
        "    - [Cuestión 5](#3.5): 0.25 pts\n",
        "\n"
      ]
    },
    {
      "cell_type": "code",
      "execution_count": 22,
      "id": "prompt-developer",
      "metadata": {
        "id": "prompt-developer"
      },
      "outputs": [],
      "source": [
        "import tensorflow as tf\n",
        "from tensorflow import keras\n",
        "from tensorflow.keras import layers\n",
        "import matplotlib.pyplot as plt\n",
        "import pandas as pd\n",
        "import numpy as np\n",
        "from sklearn.model_selection import train_test_split\n",
        "from tensorflow.keras.layers import Dropout\n",
        "from tensorflow.keras import regularizers\n",
        "tf.random.set_seed(0)"
      ]
    },
    {
      "cell_type": "markdown",
      "id": "vocal-correction",
      "metadata": {
        "id": "vocal-correction"
      },
      "source": [
        "<a name='actividad_1'></a>\n",
        "# Actividad 1: Redes Densas\n",
        "\n",
        "Para esta primera actividad vamos a utilizar el [wine quality dataset](https://archive.ics.uci.edu/ml/datasets/wine+quality). Con el que trataremos de predecir la calidad del vino.\n",
        "\n",
        "La calidad del vino puede tomar valores decimales (por ejemplo 7.25), independientemente de que en el dataset de entrenamiento sean números enteros. Por lo tanto, el problema es una `regresión`.\n",
        "\n",
        "**Puntuación**:\n",
        "\n",
        "Normalizar las features correctamente (x_train, x_test): 0.25 pts , se pueden normalizar con el [Normalization layer](https://www.tensorflow.org/api_docs/python/tf/keras/layers/experimental/preprocessing/Normalization) de Keras. Ejemplo de uso: [Introduction_to_RNN_Time_Series](https://github.com/ezponda/intro_deep_learning/blob/main/class/RNN/Introduction_to_RNN_Time_Series.ipynb)\n",
        "\n",
        "```python\n",
        "tf.keras.layers.experimental.preprocessing.Normalization(\n",
        "    axis=-1, dtype=None, mean=None, variance=None, **kwargs\n",
        ")\n",
        "```\n",
        "\n",
        "- Correcta normalización: máximo de 0.25 pts\n",
        "- [Cuestión 1](#1.1): 1 pt\n",
        "- [Cuestión 2](#1.2): 1 pt\n",
        "- [Cuestión 3](#1.3): 0.5 pts\n",
        "- [Cuestión 4](#1.4): 0.25 pts\n",
        "- [Cuestión 5](#1.5): 0.25 pts\n",
        "- [Cuestión 6](#1.6): 0.25 pts\n",
        "- [Cuestión 7](#1.7): 0.25 pts\n",
        "- [Cuestión 8](#1.8): 0.25 pts\n",
        "\n"
      ]
    },
    {
      "cell_type": "code",
      "execution_count": 2,
      "id": "e088b9e6",
      "metadata": {
        "colab": {
          "base_uri": "https://localhost:8080/",
          "height": 305
        },
        "id": "e088b9e6",
        "outputId": "4ecc8a35-0ee5-42bb-8584-e63f4d4de137"
      },
      "outputs": [
        {
          "output_type": "execute_result",
          "data": {
            "text/plain": [
              "   fixed acidity  volatile acidity  citric acid  residual sugar  chlorides  \\\n",
              "0            7.4              0.70         0.00             1.9      0.076   \n",
              "1            7.8              0.88         0.00             2.6      0.098   \n",
              "2            7.8              0.76         0.04             2.3      0.092   \n",
              "3           11.2              0.28         0.56             1.9      0.075   \n",
              "4            7.4              0.70         0.00             1.9      0.076   \n",
              "\n",
              "   free sulfur dioxide  total sulfur dioxide  density    pH  sulphates  \\\n",
              "0                 11.0                  34.0   0.9978  3.51       0.56   \n",
              "1                 25.0                  67.0   0.9968  3.20       0.68   \n",
              "2                 15.0                  54.0   0.9970  3.26       0.65   \n",
              "3                 17.0                  60.0   0.9980  3.16       0.58   \n",
              "4                 11.0                  34.0   0.9978  3.51       0.56   \n",
              "\n",
              "   alcohol  quality  \n",
              "0      9.4        5  \n",
              "1      9.8        5  \n",
              "2      9.8        5  \n",
              "3      9.8        6  \n",
              "4      9.4        5  "
            ],
            "text/html": [
              "\n",
              "\n",
              "  <div id=\"df-cddb15f4-3294-42f4-adcd-c44fddc53b8a\">\n",
              "    <div class=\"colab-df-container\">\n",
              "      <div>\n",
              "<style scoped>\n",
              "    .dataframe tbody tr th:only-of-type {\n",
              "        vertical-align: middle;\n",
              "    }\n",
              "\n",
              "    .dataframe tbody tr th {\n",
              "        vertical-align: top;\n",
              "    }\n",
              "\n",
              "    .dataframe thead th {\n",
              "        text-align: right;\n",
              "    }\n",
              "</style>\n",
              "<table border=\"1\" class=\"dataframe\">\n",
              "  <thead>\n",
              "    <tr style=\"text-align: right;\">\n",
              "      <th></th>\n",
              "      <th>fixed acidity</th>\n",
              "      <th>volatile acidity</th>\n",
              "      <th>citric acid</th>\n",
              "      <th>residual sugar</th>\n",
              "      <th>chlorides</th>\n",
              "      <th>free sulfur dioxide</th>\n",
              "      <th>total sulfur dioxide</th>\n",
              "      <th>density</th>\n",
              "      <th>pH</th>\n",
              "      <th>sulphates</th>\n",
              "      <th>alcohol</th>\n",
              "      <th>quality</th>\n",
              "    </tr>\n",
              "  </thead>\n",
              "  <tbody>\n",
              "    <tr>\n",
              "      <th>0</th>\n",
              "      <td>7.4</td>\n",
              "      <td>0.70</td>\n",
              "      <td>0.00</td>\n",
              "      <td>1.9</td>\n",
              "      <td>0.076</td>\n",
              "      <td>11.0</td>\n",
              "      <td>34.0</td>\n",
              "      <td>0.9978</td>\n",
              "      <td>3.51</td>\n",
              "      <td>0.56</td>\n",
              "      <td>9.4</td>\n",
              "      <td>5</td>\n",
              "    </tr>\n",
              "    <tr>\n",
              "      <th>1</th>\n",
              "      <td>7.8</td>\n",
              "      <td>0.88</td>\n",
              "      <td>0.00</td>\n",
              "      <td>2.6</td>\n",
              "      <td>0.098</td>\n",
              "      <td>25.0</td>\n",
              "      <td>67.0</td>\n",
              "      <td>0.9968</td>\n",
              "      <td>3.20</td>\n",
              "      <td>0.68</td>\n",
              "      <td>9.8</td>\n",
              "      <td>5</td>\n",
              "    </tr>\n",
              "    <tr>\n",
              "      <th>2</th>\n",
              "      <td>7.8</td>\n",
              "      <td>0.76</td>\n",
              "      <td>0.04</td>\n",
              "      <td>2.3</td>\n",
              "      <td>0.092</td>\n",
              "      <td>15.0</td>\n",
              "      <td>54.0</td>\n",
              "      <td>0.9970</td>\n",
              "      <td>3.26</td>\n",
              "      <td>0.65</td>\n",
              "      <td>9.8</td>\n",
              "      <td>5</td>\n",
              "    </tr>\n",
              "    <tr>\n",
              "      <th>3</th>\n",
              "      <td>11.2</td>\n",
              "      <td>0.28</td>\n",
              "      <td>0.56</td>\n",
              "      <td>1.9</td>\n",
              "      <td>0.075</td>\n",
              "      <td>17.0</td>\n",
              "      <td>60.0</td>\n",
              "      <td>0.9980</td>\n",
              "      <td>3.16</td>\n",
              "      <td>0.58</td>\n",
              "      <td>9.8</td>\n",
              "      <td>6</td>\n",
              "    </tr>\n",
              "    <tr>\n",
              "      <th>4</th>\n",
              "      <td>7.4</td>\n",
              "      <td>0.70</td>\n",
              "      <td>0.00</td>\n",
              "      <td>1.9</td>\n",
              "      <td>0.076</td>\n",
              "      <td>11.0</td>\n",
              "      <td>34.0</td>\n",
              "      <td>0.9978</td>\n",
              "      <td>3.51</td>\n",
              "      <td>0.56</td>\n",
              "      <td>9.4</td>\n",
              "      <td>5</td>\n",
              "    </tr>\n",
              "  </tbody>\n",
              "</table>\n",
              "</div>\n",
              "      <button class=\"colab-df-convert\" onclick=\"convertToInteractive('df-cddb15f4-3294-42f4-adcd-c44fddc53b8a')\"\n",
              "              title=\"Convert this dataframe to an interactive table.\"\n",
              "              style=\"display:none;\">\n",
              "\n",
              "  <svg xmlns=\"http://www.w3.org/2000/svg\" height=\"24px\"viewBox=\"0 0 24 24\"\n",
              "       width=\"24px\">\n",
              "    <path d=\"M0 0h24v24H0V0z\" fill=\"none\"/>\n",
              "    <path d=\"M18.56 5.44l.94 2.06.94-2.06 2.06-.94-2.06-.94-.94-2.06-.94 2.06-2.06.94zm-11 1L8.5 8.5l.94-2.06 2.06-.94-2.06-.94L8.5 2.5l-.94 2.06-2.06.94zm10 10l.94 2.06.94-2.06 2.06-.94-2.06-.94-.94-2.06-.94 2.06-2.06.94z\"/><path d=\"M17.41 7.96l-1.37-1.37c-.4-.4-.92-.59-1.43-.59-.52 0-1.04.2-1.43.59L10.3 9.45l-7.72 7.72c-.78.78-.78 2.05 0 2.83L4 21.41c.39.39.9.59 1.41.59.51 0 1.02-.2 1.41-.59l7.78-7.78 2.81-2.81c.8-.78.8-2.07 0-2.86zM5.41 20L4 18.59l7.72-7.72 1.47 1.35L5.41 20z\"/>\n",
              "  </svg>\n",
              "      </button>\n",
              "\n",
              "\n",
              "\n",
              "    <div id=\"df-688f94d5-2d51-479e-aa16-df96e4d4de5f\">\n",
              "      <button class=\"colab-df-quickchart\" onclick=\"quickchart('df-688f94d5-2d51-479e-aa16-df96e4d4de5f')\"\n",
              "              title=\"Suggest charts.\"\n",
              "              style=\"display:none;\">\n",
              "\n",
              "<svg xmlns=\"http://www.w3.org/2000/svg\" height=\"24px\"viewBox=\"0 0 24 24\"\n",
              "     width=\"24px\">\n",
              "    <g>\n",
              "        <path d=\"M19 3H5c-1.1 0-2 .9-2 2v14c0 1.1.9 2 2 2h14c1.1 0 2-.9 2-2V5c0-1.1-.9-2-2-2zM9 17H7v-7h2v7zm4 0h-2V7h2v10zm4 0h-2v-4h2v4z\"/>\n",
              "    </g>\n",
              "</svg>\n",
              "      </button>\n",
              "    </div>\n",
              "\n",
              "<style>\n",
              "  .colab-df-quickchart {\n",
              "    background-color: #E8F0FE;\n",
              "    border: none;\n",
              "    border-radius: 50%;\n",
              "    cursor: pointer;\n",
              "    display: none;\n",
              "    fill: #1967D2;\n",
              "    height: 32px;\n",
              "    padding: 0 0 0 0;\n",
              "    width: 32px;\n",
              "  }\n",
              "\n",
              "  .colab-df-quickchart:hover {\n",
              "    background-color: #E2EBFA;\n",
              "    box-shadow: 0px 1px 2px rgba(60, 64, 67, 0.3), 0px 1px 3px 1px rgba(60, 64, 67, 0.15);\n",
              "    fill: #174EA6;\n",
              "  }\n",
              "\n",
              "  [theme=dark] .colab-df-quickchart {\n",
              "    background-color: #3B4455;\n",
              "    fill: #D2E3FC;\n",
              "  }\n",
              "\n",
              "  [theme=dark] .colab-df-quickchart:hover {\n",
              "    background-color: #434B5C;\n",
              "    box-shadow: 0px 1px 3px 1px rgba(0, 0, 0, 0.15);\n",
              "    filter: drop-shadow(0px 1px 2px rgba(0, 0, 0, 0.3));\n",
              "    fill: #FFFFFF;\n",
              "  }\n",
              "</style>\n",
              "\n",
              "    <script>\n",
              "      async function quickchart(key) {\n",
              "        const containerElement = document.querySelector('#' + key);\n",
              "        const charts = await google.colab.kernel.invokeFunction(\n",
              "            'suggestCharts', [key], {});\n",
              "      }\n",
              "    </script>\n",
              "\n",
              "      <script>\n",
              "\n",
              "function displayQuickchartButton(domScope) {\n",
              "  let quickchartButtonEl =\n",
              "    domScope.querySelector('#df-688f94d5-2d51-479e-aa16-df96e4d4de5f button.colab-df-quickchart');\n",
              "  quickchartButtonEl.style.display =\n",
              "    google.colab.kernel.accessAllowed ? 'block' : 'none';\n",
              "}\n",
              "\n",
              "        displayQuickchartButton(document);\n",
              "      </script>\n",
              "      <style>\n",
              "    .colab-df-container {\n",
              "      display:flex;\n",
              "      flex-wrap:wrap;\n",
              "      gap: 12px;\n",
              "    }\n",
              "\n",
              "    .colab-df-convert {\n",
              "      background-color: #E8F0FE;\n",
              "      border: none;\n",
              "      border-radius: 50%;\n",
              "      cursor: pointer;\n",
              "      display: none;\n",
              "      fill: #1967D2;\n",
              "      height: 32px;\n",
              "      padding: 0 0 0 0;\n",
              "      width: 32px;\n",
              "    }\n",
              "\n",
              "    .colab-df-convert:hover {\n",
              "      background-color: #E2EBFA;\n",
              "      box-shadow: 0px 1px 2px rgba(60, 64, 67, 0.3), 0px 1px 3px 1px rgba(60, 64, 67, 0.15);\n",
              "      fill: #174EA6;\n",
              "    }\n",
              "\n",
              "    [theme=dark] .colab-df-convert {\n",
              "      background-color: #3B4455;\n",
              "      fill: #D2E3FC;\n",
              "    }\n",
              "\n",
              "    [theme=dark] .colab-df-convert:hover {\n",
              "      background-color: #434B5C;\n",
              "      box-shadow: 0px 1px 3px 1px rgba(0, 0, 0, 0.15);\n",
              "      filter: drop-shadow(0px 1px 2px rgba(0, 0, 0, 0.3));\n",
              "      fill: #FFFFFF;\n",
              "    }\n",
              "  </style>\n",
              "\n",
              "      <script>\n",
              "        const buttonEl =\n",
              "          document.querySelector('#df-cddb15f4-3294-42f4-adcd-c44fddc53b8a button.colab-df-convert');\n",
              "        buttonEl.style.display =\n",
              "          google.colab.kernel.accessAllowed ? 'block' : 'none';\n",
              "\n",
              "        async function convertToInteractive(key) {\n",
              "          const element = document.querySelector('#df-cddb15f4-3294-42f4-adcd-c44fddc53b8a');\n",
              "          const dataTable =\n",
              "            await google.colab.kernel.invokeFunction('convertToInteractive',\n",
              "                                                     [key], {});\n",
              "          if (!dataTable) return;\n",
              "\n",
              "          const docLinkHtml = 'Like what you see? Visit the ' +\n",
              "            '<a target=\"_blank\" href=https://colab.research.google.com/notebooks/data_table.ipynb>data table notebook</a>'\n",
              "            + ' to learn more about interactive tables.';\n",
              "          element.innerHTML = '';\n",
              "          dataTable['output_type'] = 'display_data';\n",
              "          await google.colab.output.renderOutput(dataTable, element);\n",
              "          const docLink = document.createElement('div');\n",
              "          docLink.innerHTML = docLinkHtml;\n",
              "          element.appendChild(docLink);\n",
              "        }\n",
              "      </script>\n",
              "    </div>\n",
              "  </div>\n"
            ]
          },
          "metadata": {},
          "execution_count": 2
        }
      ],
      "source": [
        "# Descargar los datos con pandas\n",
        "df_red = pd.read_csv(\n",
        "    'https://archive.ics.uci.edu/ml/machine-learning-databases/wine-quality/winequality-red.csv',\n",
        "    sep=';'\n",
        ")\n",
        "df_white = pd.read_csv(\n",
        "    'https://archive.ics.uci.edu/ml/machine-learning-databases/wine-quality/winequality-white.csv',\n",
        "    sep=';'\n",
        ")\n",
        "df = pd.concat([df_red, df_white])\n",
        "\n",
        "df.head()"
      ]
    },
    {
      "cell_type": "code",
      "execution_count": 3,
      "id": "f9a547f1",
      "metadata": {
        "id": "f9a547f1"
      },
      "outputs": [],
      "source": [
        "feature_names = [\n",
        "    'fixed acidity', 'volatile acidity', 'citric acid', 'residual sugar', 'chlorides',\n",
        "    'free sulfur dioxide', 'total sulfur dioxide', 'density', 'pH', 'sulphates', 'alcohol'\n",
        "]\n",
        "\n",
        "\n",
        "# separar features y target\n",
        "y = df.pop('quality').values\n",
        "X = df.copy().values"
      ]
    },
    {
      "cell_type": "code",
      "execution_count": 4,
      "id": "5cfb80ec",
      "metadata": {
        "colab": {
          "base_uri": "https://localhost:8080/"
        },
        "id": "5cfb80ec",
        "outputId": "8485fa9f-8256-4ec4-afed-29ac3e2df3cf"
      },
      "outputs": [
        {
          "output_type": "stream",
          "name": "stdout",
          "text": [
            "x_train, y_train shapes: (4872, 11) (4872,)\n",
            "x_test, y_test shapes: (1625, 11) (1625,)\n",
            "Some qualities:  [6 7 8 5 6]\n"
          ]
        }
      ],
      "source": [
        "x_train, x_test, y_train, y_test = train_test_split(X, y, test_size=0.25, random_state=0)\n",
        "\n",
        "print('x_train, y_train shapes:', x_train.shape, y_train.shape)\n",
        "print('x_test, y_test shapes:', x_test.shape, y_test.shape)\n",
        "print('Some qualities: ', y_train[:5])"
      ]
    },
    {
      "cell_type": "code",
      "execution_count": 5,
      "id": "painted-extreme",
      "metadata": {
        "colab": {
          "base_uri": "https://localhost:8080/"
        },
        "id": "painted-extreme",
        "outputId": "51982242-c504-41ac-de09-9bbd4de5220d"
      },
      "outputs": [
        {
          "output_type": "stream",
          "name": "stdout",
          "text": [
            "tf.Tensor(\n",
            "[[-0.08802134 -0.72820073  0.0051775  ...  0.9511134  -1.0093288\n",
            "  -0.7528128 ]\n",
            " [-0.7853837  -1.090723    0.07390193 ...  0.6399133  -0.47885838\n",
            "   0.34073868]\n",
            " [-0.3979602  -0.60736    -0.13227095 ... -1.1028085   0.38315573\n",
            "   0.6772167 ]\n",
            " ...\n",
            " [-0.3204752  -0.84904146  1.8607332  ... -1.0405685  -1.0093288\n",
            "  -1.1734098 ]\n",
            " [-0.47544482 -0.72820073  0.34879905 ...  0.9511134   0.11792079\n",
            "  -0.1639772 ]\n",
            " [ 1.1517338  -0.72820073  0.69242036 ... -1.4140086  -0.6777848\n",
            "  -0.41633555]], shape=(4872, 11), dtype=float32)\n"
          ]
        }
      ],
      "source": [
        "## Si quiere, puede normalizar las features\n",
        "norm = tf.keras.layers.experimental.preprocessing.Normalization(\n",
        "    axis=-1, mean=None, variance=None,\n",
        ")\n",
        "norm.adapt(x_train)\n",
        "x_train = norm(x_train)\n",
        "\n",
        "print(x_train)"
      ]
    },
    {
      "cell_type": "markdown",
      "id": "underlying-planner",
      "metadata": {
        "id": "underlying-planner"
      },
      "source": [
        "<a name='1.1'></a>\n",
        "## Cuestión 1: Cree un modelo secuencial que contenga 4 capas ocultas(hidden layers), con más de 60 neuronas  por capa, sin regularización y obtenga los resultados.\n",
        "\n",
        "Puntuación:\n",
        "- Obtener el modelo correcto: 0.8 pts\n",
        "- Compilar el modelo: 0.1pts\n",
        "- Acertar con la función de pérdida: 0.1 pts"
      ]
    },
    {
      "cell_type": "code",
      "execution_count": 18,
      "id": "working-shade",
      "metadata": {
        "colab": {
          "base_uri": "https://localhost:8080/"
        },
        "id": "working-shade",
        "outputId": "84bf4cb4-8dd2-4310-fd8f-45c9873727e0"
      },
      "outputs": [
        {
          "output_type": "stream",
          "name": "stdout",
          "text": [
            "Model: \"sequential_5\"\n",
            "_________________________________________________________________\n",
            " Layer (type)                Output Shape              Param #   \n",
            "=================================================================\n",
            " hidden_layer_1 (Dense)      (None, 64)                768       \n",
            "                                                                 \n",
            " hidden_layer_2 (Dense)      (None, 64)                4160      \n",
            "                                                                 \n",
            " hidden_layer_3 (Dense)      (None, 64)                4160      \n",
            "                                                                 \n",
            " hidden_layer_4 (Dense)      (None, 64)                4160      \n",
            "                                                                 \n",
            " output_layer (Dense)        (None, 1)                 65        \n",
            "                                                                 \n",
            "=================================================================\n",
            "Total params: 13,313\n",
            "Trainable params: 13,313\n",
            "Non-trainable params: 0\n",
            "_________________________________________________________________\n"
          ]
        }
      ],
      "source": [
        "model = tf.keras.models.Sequential()\n",
        "\n",
        "model.add(tf.keras.layers.Dense(64, activation='relu', input_shape=(11,),  name='hidden_layer_1'))  # Capa oculta 1\n",
        "model.add(tf.keras.layers.Dense(64, activation='relu',  name='hidden_layer_2'))  # Capa oculta 2\n",
        "model.add(tf.keras.layers.Dense(64, activation='relu',  name='hidden_layer_3'))  # Capa oculta 3\n",
        "model.add(tf.keras.layers.Dense(64, activation='relu',  name='hidden_layer_4'))  # Capa oculta 4\n",
        "\n",
        "# Output layer\n",
        "model.add(tf.keras.layers.Dense(1, activation='linear', name='output_layer'))\n",
        "\n",
        "\n",
        "model.summary()\n"
      ]
    },
    {
      "cell_type": "code",
      "execution_count": 19,
      "id": "mobile-change",
      "metadata": {
        "id": "mobile-change"
      },
      "outputs": [],
      "source": [
        "# Compilación del modelo\n",
        "# Código aquí\n",
        "\n",
        "model.compile(optimizer='adam', loss='mean_squared_error')  # Compilación del modelo\n"
      ]
    },
    {
      "cell_type": "code",
      "execution_count": 20,
      "id": "rotary-credits",
      "metadata": {
        "colab": {
          "base_uri": "https://localhost:8080/"
        },
        "id": "rotary-credits",
        "outputId": "1d054a9b-e5e2-4ebe-d241-647447216ce3"
      },
      "outputs": [
        {
          "output_type": "stream",
          "name": "stdout",
          "text": [
            "Epoch 1/200\n",
            "122/122 [==============================] - 2s 4ms/step - loss: 6.2605 - val_loss: 1.8358\n",
            "Epoch 2/200\n",
            "122/122 [==============================] - 0s 3ms/step - loss: 1.1887 - val_loss: 1.1442\n",
            "Epoch 3/200\n",
            "122/122 [==============================] - 0s 2ms/step - loss: 0.7674 - val_loss: 0.7550\n",
            "Epoch 4/200\n",
            "122/122 [==============================] - 0s 3ms/step - loss: 0.5976 - val_loss: 0.6019\n",
            "Epoch 5/200\n",
            "122/122 [==============================] - 0s 3ms/step - loss: 0.5153 - val_loss: 0.5950\n",
            "Epoch 6/200\n",
            "122/122 [==============================] - 0s 2ms/step - loss: 0.5020 - val_loss: 0.5309\n",
            "Epoch 7/200\n",
            "122/122 [==============================] - 0s 3ms/step - loss: 0.4775 - val_loss: 0.5968\n",
            "Epoch 8/200\n",
            "122/122 [==============================] - 0s 3ms/step - loss: 0.4571 - val_loss: 0.5226\n",
            "Epoch 9/200\n",
            "122/122 [==============================] - 0s 3ms/step - loss: 0.4467 - val_loss: 0.5489\n",
            "Epoch 10/200\n",
            "122/122 [==============================] - 0s 3ms/step - loss: 0.4368 - val_loss: 0.5060\n",
            "Epoch 11/200\n",
            "122/122 [==============================] - 0s 2ms/step - loss: 0.4389 - val_loss: 0.5207\n",
            "Epoch 12/200\n",
            "122/122 [==============================] - 0s 3ms/step - loss: 0.4309 - val_loss: 0.4788\n",
            "Epoch 13/200\n",
            "122/122 [==============================] - 0s 2ms/step - loss: 0.4254 - val_loss: 0.4982\n",
            "Epoch 14/200\n",
            "122/122 [==============================] - 0s 3ms/step - loss: 0.4080 - val_loss: 0.5035\n",
            "Epoch 15/200\n",
            "122/122 [==============================] - 0s 2ms/step - loss: 0.4070 - val_loss: 0.4936\n",
            "Epoch 16/200\n",
            "122/122 [==============================] - 0s 2ms/step - loss: 0.3968 - val_loss: 0.5071\n",
            "Epoch 17/200\n",
            "122/122 [==============================] - 0s 3ms/step - loss: 0.3971 - val_loss: 0.5340\n",
            "Epoch 18/200\n",
            "122/122 [==============================] - 0s 3ms/step - loss: 0.3976 - val_loss: 0.4943\n",
            "Epoch 19/200\n",
            "122/122 [==============================] - 0s 3ms/step - loss: 0.3870 - val_loss: 0.5014\n",
            "Epoch 20/200\n",
            "122/122 [==============================] - 0s 3ms/step - loss: 0.3978 - val_loss: 0.4818\n",
            "Epoch 21/200\n",
            "122/122 [==============================] - 0s 3ms/step - loss: 0.3810 - val_loss: 0.4984\n",
            "Epoch 22/200\n",
            "122/122 [==============================] - 0s 3ms/step - loss: 0.3746 - val_loss: 0.4934\n",
            "Epoch 23/200\n",
            "122/122 [==============================] - 0s 3ms/step - loss: 0.3646 - val_loss: 0.5072\n",
            "Epoch 24/200\n",
            "122/122 [==============================] - 0s 3ms/step - loss: 0.3726 - val_loss: 0.4902\n",
            "Epoch 25/200\n",
            "122/122 [==============================] - 0s 3ms/step - loss: 0.3621 - val_loss: 0.4803\n",
            "Epoch 26/200\n",
            "122/122 [==============================] - 0s 2ms/step - loss: 0.3592 - val_loss: 0.5053\n",
            "Epoch 27/200\n",
            "122/122 [==============================] - 0s 4ms/step - loss: 0.3561 - val_loss: 0.4926\n",
            "Epoch 28/200\n",
            "122/122 [==============================] - 0s 4ms/step - loss: 0.3486 - val_loss: 0.4915\n",
            "Epoch 29/200\n",
            "122/122 [==============================] - 0s 4ms/step - loss: 0.3545 - val_loss: 0.5672\n",
            "Epoch 30/200\n",
            "122/122 [==============================] - 0s 4ms/step - loss: 0.3374 - val_loss: 0.5087\n",
            "Epoch 31/200\n",
            "122/122 [==============================] - 0s 4ms/step - loss: 0.3353 - val_loss: 0.5083\n",
            "Epoch 32/200\n",
            "122/122 [==============================] - 0s 4ms/step - loss: 0.3292 - val_loss: 0.5032\n",
            "Epoch 33/200\n",
            "122/122 [==============================] - 0s 3ms/step - loss: 0.3165 - val_loss: 0.4977\n",
            "Epoch 34/200\n",
            "122/122 [==============================] - 0s 3ms/step - loss: 0.3242 - val_loss: 0.5012\n",
            "Epoch 35/200\n",
            "122/122 [==============================] - 0s 3ms/step - loss: 0.3196 - val_loss: 0.5295\n",
            "Epoch 36/200\n",
            "122/122 [==============================] - 0s 3ms/step - loss: 0.3140 - val_loss: 0.5238\n",
            "Epoch 37/200\n",
            "122/122 [==============================] - 0s 3ms/step - loss: 0.3086 - val_loss: 0.5114\n",
            "Epoch 38/200\n",
            "122/122 [==============================] - 0s 3ms/step - loss: 0.2906 - val_loss: 0.5050\n",
            "Epoch 39/200\n",
            "122/122 [==============================] - 0s 3ms/step - loss: 0.3102 - val_loss: 0.5262\n",
            "Epoch 40/200\n",
            "122/122 [==============================] - 0s 3ms/step - loss: 0.3041 - val_loss: 0.4950\n",
            "Epoch 41/200\n",
            "122/122 [==============================] - 0s 3ms/step - loss: 0.2932 - val_loss: 0.5258\n",
            "Epoch 42/200\n",
            "122/122 [==============================] - 0s 3ms/step - loss: 0.2863 - val_loss: 0.5053\n",
            "Epoch 43/200\n",
            "122/122 [==============================] - 0s 3ms/step - loss: 0.2898 - val_loss: 0.5296\n",
            "Epoch 44/200\n",
            "122/122 [==============================] - 0s 3ms/step - loss: 0.2791 - val_loss: 0.5174\n",
            "Epoch 45/200\n",
            "122/122 [==============================] - 0s 2ms/step - loss: 0.2857 - val_loss: 0.5072\n",
            "Epoch 46/200\n",
            "122/122 [==============================] - 0s 3ms/step - loss: 0.2604 - val_loss: 0.5084\n",
            "Epoch 47/200\n",
            "122/122 [==============================] - 0s 3ms/step - loss: 0.2630 - val_loss: 0.5511\n",
            "Epoch 48/200\n",
            "122/122 [==============================] - 0s 3ms/step - loss: 0.2620 - val_loss: 0.5138\n",
            "Epoch 49/200\n",
            "122/122 [==============================] - 0s 3ms/step - loss: 0.2671 - val_loss: 0.5296\n",
            "Epoch 50/200\n",
            "122/122 [==============================] - 0s 3ms/step - loss: 0.2673 - val_loss: 0.5261\n",
            "Epoch 51/200\n",
            "122/122 [==============================] - 0s 2ms/step - loss: 0.2594 - val_loss: 0.5341\n",
            "Epoch 52/200\n",
            "122/122 [==============================] - 0s 2ms/step - loss: 0.2445 - val_loss: 0.5475\n",
            "Epoch 53/200\n",
            "122/122 [==============================] - 0s 3ms/step - loss: 0.2453 - val_loss: 0.5199\n",
            "Epoch 54/200\n",
            "122/122 [==============================] - 0s 3ms/step - loss: 0.2400 - val_loss: 0.5516\n",
            "Epoch 55/200\n",
            "122/122 [==============================] - 0s 2ms/step - loss: 0.2380 - val_loss: 0.5317\n",
            "Epoch 56/200\n",
            "122/122 [==============================] - 0s 3ms/step - loss: 0.2313 - val_loss: 0.5557\n",
            "Epoch 57/200\n",
            "122/122 [==============================] - 0s 3ms/step - loss: 0.2308 - val_loss: 0.5500\n",
            "Epoch 58/200\n",
            "122/122 [==============================] - 0s 2ms/step - loss: 0.2291 - val_loss: 0.5521\n",
            "Epoch 59/200\n",
            "122/122 [==============================] - 0s 3ms/step - loss: 0.2285 - val_loss: 0.5227\n",
            "Epoch 60/200\n",
            "122/122 [==============================] - 0s 2ms/step - loss: 0.2232 - val_loss: 0.5446\n",
            "Epoch 61/200\n",
            "122/122 [==============================] - 0s 3ms/step - loss: 0.2252 - val_loss: 0.5299\n",
            "Epoch 62/200\n",
            "122/122 [==============================] - 0s 3ms/step - loss: 0.2300 - val_loss: 0.5256\n",
            "Epoch 63/200\n",
            "122/122 [==============================] - 0s 3ms/step - loss: 0.2150 - val_loss: 0.5299\n",
            "Epoch 64/200\n",
            "122/122 [==============================] - 0s 4ms/step - loss: 0.2122 - val_loss: 0.5168\n",
            "Epoch 65/200\n",
            "122/122 [==============================] - 0s 4ms/step - loss: 0.2134 - val_loss: 0.5397\n",
            "Epoch 66/200\n",
            "122/122 [==============================] - 0s 4ms/step - loss: 0.2125 - val_loss: 0.6104\n",
            "Epoch 67/200\n",
            "122/122 [==============================] - 0s 4ms/step - loss: 0.2041 - val_loss: 0.5528\n",
            "Epoch 68/200\n",
            "122/122 [==============================] - 0s 4ms/step - loss: 0.1928 - val_loss: 0.5376\n",
            "Epoch 69/200\n",
            "122/122 [==============================] - 0s 3ms/step - loss: 0.1947 - val_loss: 0.5747\n",
            "Epoch 70/200\n",
            "122/122 [==============================] - 0s 2ms/step - loss: 0.1969 - val_loss: 0.5616\n",
            "Epoch 71/200\n",
            "122/122 [==============================] - 0s 2ms/step - loss: 0.1911 - val_loss: 0.5615\n",
            "Epoch 72/200\n",
            "122/122 [==============================] - 0s 3ms/step - loss: 0.1841 - val_loss: 0.5320\n",
            "Epoch 73/200\n",
            "122/122 [==============================] - 0s 3ms/step - loss: 0.1906 - val_loss: 0.5672\n",
            "Epoch 74/200\n",
            "122/122 [==============================] - 0s 3ms/step - loss: 0.1826 - val_loss: 0.5390\n",
            "Epoch 75/200\n",
            "122/122 [==============================] - 0s 2ms/step - loss: 0.1777 - val_loss: 0.5278\n",
            "Epoch 76/200\n",
            "122/122 [==============================] - 0s 3ms/step - loss: 0.1790 - val_loss: 0.5355\n",
            "Epoch 77/200\n",
            "122/122 [==============================] - 0s 2ms/step - loss: 0.1810 - val_loss: 0.5352\n",
            "Epoch 78/200\n",
            "122/122 [==============================] - 0s 3ms/step - loss: 0.1729 - val_loss: 0.5450\n",
            "Epoch 79/200\n",
            "122/122 [==============================] - 0s 3ms/step - loss: 0.1734 - val_loss: 0.5510\n",
            "Epoch 80/200\n",
            "122/122 [==============================] - 0s 2ms/step - loss: 0.1721 - val_loss: 0.5344\n",
            "Epoch 81/200\n",
            "122/122 [==============================] - 0s 2ms/step - loss: 0.1778 - val_loss: 0.5621\n",
            "Epoch 82/200\n",
            "122/122 [==============================] - 0s 3ms/step - loss: 0.1710 - val_loss: 0.5393\n",
            "Epoch 83/200\n",
            "122/122 [==============================] - 0s 2ms/step - loss: 0.1621 - val_loss: 0.5349\n",
            "Epoch 84/200\n",
            "122/122 [==============================] - 0s 2ms/step - loss: 0.1568 - val_loss: 0.5553\n",
            "Epoch 85/200\n",
            "122/122 [==============================] - 0s 2ms/step - loss: 0.1720 - val_loss: 0.5584\n",
            "Epoch 86/200\n",
            "122/122 [==============================] - 0s 3ms/step - loss: 0.1672 - val_loss: 0.5404\n",
            "Epoch 87/200\n",
            "122/122 [==============================] - 0s 2ms/step - loss: 0.1676 - val_loss: 0.5848\n",
            "Epoch 88/200\n",
            "122/122 [==============================] - 0s 3ms/step - loss: 0.1606 - val_loss: 0.5421\n",
            "Epoch 89/200\n",
            "122/122 [==============================] - 0s 3ms/step - loss: 0.1594 - val_loss: 0.5342\n",
            "Epoch 90/200\n",
            "122/122 [==============================] - 0s 3ms/step - loss: 0.1459 - val_loss: 0.5975\n",
            "Epoch 91/200\n",
            "122/122 [==============================] - 0s 3ms/step - loss: 0.1565 - val_loss: 0.5650\n",
            "Epoch 92/200\n",
            "122/122 [==============================] - 0s 3ms/step - loss: 0.1500 - val_loss: 0.5472\n",
            "Epoch 93/200\n",
            "122/122 [==============================] - 0s 3ms/step - loss: 0.1376 - val_loss: 0.5758\n",
            "Epoch 94/200\n",
            "122/122 [==============================] - 0s 3ms/step - loss: 0.1473 - val_loss: 0.5410\n",
            "Epoch 95/200\n",
            "122/122 [==============================] - 0s 3ms/step - loss: 0.1378 - val_loss: 0.5562\n",
            "Epoch 96/200\n",
            "122/122 [==============================] - 0s 2ms/step - loss: 0.1361 - val_loss: 0.5543\n",
            "Epoch 97/200\n",
            "122/122 [==============================] - 0s 3ms/step - loss: 0.1471 - val_loss: 0.5439\n",
            "Epoch 98/200\n",
            "122/122 [==============================] - 0s 3ms/step - loss: 0.1420 - val_loss: 0.5740\n",
            "Epoch 99/200\n",
            "122/122 [==============================] - 0s 2ms/step - loss: 0.1371 - val_loss: 0.5638\n",
            "Epoch 100/200\n",
            "122/122 [==============================] - 0s 3ms/step - loss: 0.1317 - val_loss: 0.5582\n",
            "Epoch 101/200\n",
            "122/122 [==============================] - 0s 4ms/step - loss: 0.1327 - val_loss: 0.5497\n",
            "Epoch 102/200\n",
            "122/122 [==============================] - 0s 3ms/step - loss: 0.1264 - val_loss: 0.5422\n",
            "Epoch 103/200\n",
            "122/122 [==============================] - 0s 4ms/step - loss: 0.1258 - val_loss: 0.5809\n",
            "Epoch 104/200\n",
            "122/122 [==============================] - 1s 4ms/step - loss: 0.1279 - val_loss: 0.5486\n",
            "Epoch 105/200\n",
            "122/122 [==============================] - 0s 4ms/step - loss: 0.1231 - val_loss: 0.5936\n",
            "Epoch 106/200\n",
            "122/122 [==============================] - 0s 3ms/step - loss: 0.1238 - val_loss: 0.5719\n",
            "Epoch 107/200\n",
            "122/122 [==============================] - 0s 3ms/step - loss: 0.1263 - val_loss: 0.5588\n",
            "Epoch 108/200\n",
            "122/122 [==============================] - 0s 2ms/step - loss: 0.1320 - val_loss: 0.5870\n",
            "Epoch 109/200\n",
            "122/122 [==============================] - 0s 3ms/step - loss: 0.1302 - val_loss: 0.5573\n",
            "Epoch 110/200\n",
            "122/122 [==============================] - 0s 3ms/step - loss: 0.1246 - val_loss: 0.5777\n",
            "Epoch 111/200\n",
            "122/122 [==============================] - 0s 2ms/step - loss: 0.1201 - val_loss: 0.5961\n",
            "Epoch 112/200\n",
            "122/122 [==============================] - 0s 3ms/step - loss: 0.1198 - val_loss: 0.5723\n",
            "Epoch 113/200\n",
            "122/122 [==============================] - 0s 3ms/step - loss: 0.1261 - val_loss: 0.5839\n",
            "Epoch 114/200\n",
            "122/122 [==============================] - 0s 2ms/step - loss: 0.1150 - val_loss: 0.5566\n",
            "Epoch 115/200\n",
            "122/122 [==============================] - 0s 3ms/step - loss: 0.1139 - val_loss: 0.6131\n",
            "Epoch 116/200\n",
            "122/122 [==============================] - 0s 3ms/step - loss: 0.1231 - val_loss: 0.5528\n",
            "Epoch 117/200\n",
            "122/122 [==============================] - 0s 3ms/step - loss: 0.1092 - val_loss: 0.5779\n",
            "Epoch 118/200\n",
            "122/122 [==============================] - 0s 3ms/step - loss: 0.1100 - val_loss: 0.5932\n",
            "Epoch 119/200\n",
            "122/122 [==============================] - 0s 3ms/step - loss: 0.1119 - val_loss: 0.6119\n",
            "Epoch 120/200\n",
            "122/122 [==============================] - 0s 3ms/step - loss: 0.1106 - val_loss: 0.5585\n",
            "Epoch 121/200\n",
            "122/122 [==============================] - 0s 3ms/step - loss: 0.1001 - val_loss: 0.5747\n",
            "Epoch 122/200\n",
            "122/122 [==============================] - 0s 3ms/step - loss: 0.1041 - val_loss: 0.5929\n",
            "Epoch 123/200\n",
            "122/122 [==============================] - 0s 3ms/step - loss: 0.1157 - val_loss: 0.5741\n",
            "Epoch 124/200\n",
            "122/122 [==============================] - 0s 2ms/step - loss: 0.1102 - val_loss: 0.5553\n",
            "Epoch 125/200\n",
            "122/122 [==============================] - 0s 3ms/step - loss: 0.0968 - val_loss: 0.6017\n",
            "Epoch 126/200\n",
            "122/122 [==============================] - 0s 3ms/step - loss: 0.0992 - val_loss: 0.5720\n",
            "Epoch 127/200\n",
            "122/122 [==============================] - 0s 2ms/step - loss: 0.0956 - val_loss: 0.5815\n",
            "Epoch 128/200\n",
            "122/122 [==============================] - 0s 2ms/step - loss: 0.0996 - val_loss: 0.5663\n",
            "Epoch 129/200\n",
            "122/122 [==============================] - 0s 3ms/step - loss: 0.0971 - val_loss: 0.5568\n",
            "Epoch 130/200\n",
            "122/122 [==============================] - 0s 3ms/step - loss: 0.1076 - val_loss: 0.5654\n",
            "Epoch 131/200\n",
            "122/122 [==============================] - 0s 2ms/step - loss: 0.0950 - val_loss: 0.5639\n",
            "Epoch 132/200\n",
            "122/122 [==============================] - 0s 3ms/step - loss: 0.0994 - val_loss: 0.5646\n",
            "Epoch 133/200\n",
            "122/122 [==============================] - 0s 3ms/step - loss: 0.0990 - val_loss: 0.5911\n",
            "Epoch 134/200\n",
            "122/122 [==============================] - 0s 3ms/step - loss: 0.1008 - val_loss: 0.5621\n",
            "Epoch 135/200\n",
            "122/122 [==============================] - 0s 3ms/step - loss: 0.0954 - val_loss: 0.6010\n",
            "Epoch 136/200\n",
            "122/122 [==============================] - 0s 3ms/step - loss: 0.0913 - val_loss: 0.5787\n",
            "Epoch 137/200\n",
            "122/122 [==============================] - 0s 3ms/step - loss: 0.0867 - val_loss: 0.5684\n",
            "Epoch 138/200\n",
            "122/122 [==============================] - 0s 3ms/step - loss: 0.0901 - val_loss: 0.5705\n",
            "Epoch 139/200\n",
            "122/122 [==============================] - 1s 4ms/step - loss: 0.0944 - val_loss: 0.5898\n",
            "Epoch 140/200\n",
            "122/122 [==============================] - 0s 3ms/step - loss: 0.0917 - val_loss: 0.5935\n",
            "Epoch 141/200\n",
            "122/122 [==============================] - 0s 4ms/step - loss: 0.0868 - val_loss: 0.5615\n",
            "Epoch 142/200\n",
            "122/122 [==============================] - 0s 3ms/step - loss: 0.0927 - val_loss: 0.6043\n",
            "Epoch 143/200\n",
            "122/122 [==============================] - 0s 4ms/step - loss: 0.0868 - val_loss: 0.5942\n",
            "Epoch 144/200\n",
            "122/122 [==============================] - 0s 3ms/step - loss: 0.0864 - val_loss: 0.5569\n",
            "Epoch 145/200\n",
            "122/122 [==============================] - 0s 3ms/step - loss: 0.0899 - val_loss: 0.5782\n",
            "Epoch 146/200\n",
            "122/122 [==============================] - 0s 2ms/step - loss: 0.0858 - val_loss: 0.5790\n",
            "Epoch 147/200\n",
            "122/122 [==============================] - 0s 3ms/step - loss: 0.0850 - val_loss: 0.5719\n",
            "Epoch 148/200\n",
            "122/122 [==============================] - 0s 3ms/step - loss: 0.0825 - val_loss: 0.5734\n",
            "Epoch 149/200\n",
            "122/122 [==============================] - 0s 2ms/step - loss: 0.0825 - val_loss: 0.5690\n",
            "Epoch 150/200\n",
            "122/122 [==============================] - 0s 2ms/step - loss: 0.0758 - val_loss: 0.5765\n",
            "Epoch 151/200\n",
            "122/122 [==============================] - 0s 2ms/step - loss: 0.0744 - val_loss: 0.5817\n",
            "Epoch 152/200\n",
            "122/122 [==============================] - 0s 2ms/step - loss: 0.0719 - val_loss: 0.5868\n",
            "Epoch 153/200\n",
            "122/122 [==============================] - 0s 3ms/step - loss: 0.0744 - val_loss: 0.5970\n",
            "Epoch 154/200\n",
            "122/122 [==============================] - 0s 3ms/step - loss: 0.0791 - val_loss: 0.5710\n",
            "Epoch 155/200\n",
            "122/122 [==============================] - 0s 3ms/step - loss: 0.0823 - val_loss: 0.6180\n",
            "Epoch 156/200\n",
            "122/122 [==============================] - 0s 2ms/step - loss: 0.0982 - val_loss: 0.5839\n",
            "Epoch 157/200\n",
            "122/122 [==============================] - 0s 3ms/step - loss: 0.0838 - val_loss: 0.5527\n",
            "Epoch 158/200\n",
            "122/122 [==============================] - 0s 3ms/step - loss: 0.0716 - val_loss: 0.5552\n",
            "Epoch 159/200\n",
            "122/122 [==============================] - 0s 2ms/step - loss: 0.0682 - val_loss: 0.5847\n",
            "Epoch 160/200\n",
            "122/122 [==============================] - 0s 2ms/step - loss: 0.0740 - val_loss: 0.5665\n",
            "Epoch 161/200\n",
            "122/122 [==============================] - 0s 2ms/step - loss: 0.0683 - val_loss: 0.5796\n",
            "Epoch 162/200\n",
            "122/122 [==============================] - 0s 3ms/step - loss: 0.0705 - val_loss: 0.5870\n",
            "Epoch 163/200\n",
            "122/122 [==============================] - 0s 3ms/step - loss: 0.0789 - val_loss: 0.5575\n",
            "Epoch 164/200\n",
            "122/122 [==============================] - 0s 2ms/step - loss: 0.0758 - val_loss: 0.5944\n",
            "Epoch 165/200\n",
            "122/122 [==============================] - 0s 3ms/step - loss: 0.0843 - val_loss: 0.5641\n",
            "Epoch 166/200\n",
            "122/122 [==============================] - 0s 3ms/step - loss: 0.0803 - val_loss: 0.5453\n",
            "Epoch 167/200\n",
            "122/122 [==============================] - 0s 3ms/step - loss: 0.0649 - val_loss: 0.5663\n",
            "Epoch 168/200\n",
            "122/122 [==============================] - 0s 3ms/step - loss: 0.0641 - val_loss: 0.5780\n",
            "Epoch 169/200\n",
            "122/122 [==============================] - 0s 3ms/step - loss: 0.0648 - val_loss: 0.5866\n",
            "Epoch 170/200\n",
            "122/122 [==============================] - 0s 3ms/step - loss: 0.0674 - val_loss: 0.5521\n",
            "Epoch 171/200\n",
            "122/122 [==============================] - 0s 2ms/step - loss: 0.0627 - val_loss: 0.5586\n",
            "Epoch 172/200\n",
            "122/122 [==============================] - 0s 3ms/step - loss: 0.0642 - val_loss: 0.5502\n",
            "Epoch 173/200\n",
            "122/122 [==============================] - 0s 2ms/step - loss: 0.0653 - val_loss: 0.5645\n",
            "Epoch 174/200\n",
            "122/122 [==============================] - 0s 3ms/step - loss: 0.0662 - val_loss: 0.5828\n",
            "Epoch 175/200\n",
            "122/122 [==============================] - 0s 3ms/step - loss: 0.0614 - val_loss: 0.5818\n",
            "Epoch 176/200\n",
            "122/122 [==============================] - 0s 4ms/step - loss: 0.0644 - val_loss: 0.5607\n",
            "Epoch 177/200\n",
            "122/122 [==============================] - 0s 3ms/step - loss: 0.0661 - val_loss: 0.5598\n",
            "Epoch 178/200\n",
            "122/122 [==============================] - 1s 4ms/step - loss: 0.0728 - val_loss: 0.5782\n",
            "Epoch 179/200\n",
            "122/122 [==============================] - 0s 4ms/step - loss: 0.0677 - val_loss: 0.6094\n",
            "Epoch 180/200\n",
            "122/122 [==============================] - 0s 4ms/step - loss: 0.0761 - val_loss: 0.5708\n",
            "Epoch 181/200\n",
            "122/122 [==============================] - 0s 3ms/step - loss: 0.0634 - val_loss: 0.5633\n",
            "Epoch 182/200\n",
            "122/122 [==============================] - 0s 2ms/step - loss: 0.0575 - val_loss: 0.5744\n",
            "Epoch 183/200\n",
            "122/122 [==============================] - 0s 3ms/step - loss: 0.0573 - val_loss: 0.5707\n",
            "Epoch 184/200\n",
            "122/122 [==============================] - 0s 3ms/step - loss: 0.0605 - val_loss: 0.5772\n",
            "Epoch 185/200\n",
            "122/122 [==============================] - 0s 2ms/step - loss: 0.0604 - val_loss: 0.5719\n",
            "Epoch 186/200\n",
            "122/122 [==============================] - 0s 3ms/step - loss: 0.0549 - val_loss: 0.5922\n",
            "Epoch 187/200\n",
            "122/122 [==============================] - 0s 2ms/step - loss: 0.0604 - val_loss: 0.5846\n",
            "Epoch 188/200\n",
            "122/122 [==============================] - 0s 2ms/step - loss: 0.0613 - val_loss: 0.5642\n",
            "Epoch 189/200\n",
            "122/122 [==============================] - 0s 2ms/step - loss: 0.0576 - val_loss: 0.5640\n",
            "Epoch 190/200\n",
            "122/122 [==============================] - 0s 3ms/step - loss: 0.0576 - val_loss: 0.5822\n",
            "Epoch 191/200\n",
            "122/122 [==============================] - 0s 3ms/step - loss: 0.0574 - val_loss: 0.5739\n",
            "Epoch 192/200\n",
            "122/122 [==============================] - 0s 2ms/step - loss: 0.0625 - val_loss: 0.5670\n",
            "Epoch 193/200\n",
            "122/122 [==============================] - 0s 3ms/step - loss: 0.0602 - val_loss: 0.5752\n",
            "Epoch 194/200\n",
            "122/122 [==============================] - 0s 2ms/step - loss: 0.0549 - val_loss: 0.5818\n",
            "Epoch 195/200\n",
            "122/122 [==============================] - 0s 2ms/step - loss: 0.0510 - val_loss: 0.6121\n",
            "Epoch 196/200\n",
            "122/122 [==============================] - 0s 3ms/step - loss: 0.0565 - val_loss: 0.5661\n",
            "Epoch 197/200\n",
            "122/122 [==============================] - 0s 2ms/step - loss: 0.0686 - val_loss: 0.5900\n",
            "Epoch 198/200\n",
            "122/122 [==============================] - 0s 2ms/step - loss: 0.0728 - val_loss: 0.5737\n",
            "Epoch 199/200\n",
            "122/122 [==============================] - 0s 3ms/step - loss: 0.0575 - val_loss: 0.5769\n",
            "Epoch 200/200\n",
            "122/122 [==============================] - 0s 3ms/step - loss: 0.0504 - val_loss: 0.5552\n"
          ]
        },
        {
          "output_type": "execute_result",
          "data": {
            "text/plain": [
              "<keras.callbacks.History at 0x7df1c7bb6410>"
            ]
          },
          "metadata": {},
          "execution_count": 20
        }
      ],
      "source": [
        "# No modifique el código\n",
        "model.fit(x_train,\n",
        "          y_train,\n",
        "          epochs=200,\n",
        "          batch_size=32,\n",
        "          validation_split=0.2,\n",
        "          verbose=1)"
      ]
    },
    {
      "cell_type": "code",
      "execution_count": 21,
      "id": "descending-letters",
      "metadata": {
        "colab": {
          "base_uri": "https://localhost:8080/"
        },
        "id": "descending-letters",
        "outputId": "5e31abe9-7975-4393-f188-34bc2d8a2612"
      },
      "outputs": [
        {
          "output_type": "stream",
          "name": "stdout",
          "text": [
            "51/51 [==============================] - 0s 1ms/step - loss: 4192.7583\n",
            "Test Loss: 4192.75830078125\n"
          ]
        }
      ],
      "source": [
        "# No modifique el código\n",
        "results = model.evaluate(x_test, y_test, verbose=1)\n",
        "print('Test Loss: {}'.format(results))"
      ]
    },
    {
      "cell_type": "markdown",
      "id": "raised-delivery",
      "metadata": {
        "id": "raised-delivery"
      },
      "source": [
        "<a name='1.2'></a>\n",
        "## Cuestión 2: Utilice el mismo modelo de la cuestión anterior pero añadiendo al menos dos técnicas distinas de regularización.\n",
        "\n",
        "Ejemplos de regularización: [Prevent_Overfitting.ipynb](https://github.com/ezponda/intro_deep_learning/blob/main/class/Fundamentals/Prevent_Overfitting.ipynb)\n",
        "\n",
        "Puntuación:\n",
        "\n",
        "- Obtener el modelo con la regularización: 0.8 pts\n",
        "- Obtener un `test loss` inferior al anterior: 0.2 pts\n"
      ]
    },
    {
      "cell_type": "code",
      "execution_count": 24,
      "id": "hired-ground",
      "metadata": {
        "colab": {
          "base_uri": "https://localhost:8080/"
        },
        "id": "hired-ground",
        "outputId": "864b2cf7-dd3d-4ddf-bb34-850e7fed92d9"
      },
      "outputs": [
        {
          "output_type": "stream",
          "name": "stdout",
          "text": [
            "Model: \"sequential_6\"\n",
            "_________________________________________________________________\n",
            " Layer (type)                Output Shape              Param #   \n",
            "=================================================================\n",
            " hidden_layer_1 (Dense)      (None, 64)                768       \n",
            "                                                                 \n",
            " gaussian_noise (GaussianNoi  (None, 64)               0         \n",
            " se)                                                             \n",
            "                                                                 \n",
            " hidden_layer_2 (Dense)      (None, 63)                4095      \n",
            "                                                                 \n",
            " batch_normalization (BatchN  (None, 63)               252       \n",
            " ormalization)                                                   \n",
            "                                                                 \n",
            " activation (Activation)     (None, 63)                0         \n",
            "                                                                 \n",
            " hidden_layer_3 (Dense)      (None, 64)                4096      \n",
            "                                                                 \n",
            " hidden_layer_4 (Dense)      (None, 64)                4160      \n",
            "                                                                 \n",
            " output_layer (Dense)        (None, 1)                 65        \n",
            "                                                                 \n",
            "=================================================================\n",
            "Total params: 13,436\n",
            "Trainable params: 13,310\n",
            "Non-trainable params: 126\n",
            "_________________________________________________________________\n"
          ]
        }
      ],
      "source": [
        "model = tf.keras.models.Sequential()\n",
        "\n",
        "model.add(tf.keras.layers.Dense(64, activation='relu', input_shape=(11,),  name='hidden_layer_1'))\n",
        "# Noise injection\n",
        "model.add(layers.GaussianNoise(2))\n",
        "\n",
        "\n",
        "# L2 regularization\n",
        "kerner_regularizer_l2 = regularizers.l2(1e-5)\n",
        "\n",
        "\n",
        "model.add(tf.keras.layers.Dense(63, kernel_regularizer=kerner_regularizer_l2, activation=\"tanh\", name=\"hidden_layer_2\"))\n",
        "\n",
        "\n",
        "# Batch Normalization\n",
        "model.add(layers.BatchNormalization())\n",
        "model.add(tf.keras.layers.Activation('relu'))\n",
        "\n",
        "\n",
        "\n",
        "\n",
        "model.add(tf.keras.layers.Dense(64, activation='tanh', name=\"hidden_layer_3\"))\n",
        "\n",
        "model.add(tf.keras.layers.Dense(64, activation='relu', name=\"hidden_layer_4\"))\n",
        "\n",
        "# Output layer\n",
        "model.add(tf.keras.layers.Dense(1, activation='linear', name='output_layer'))\n",
        "\n",
        "\n",
        "model.summary()\n"
      ]
    },
    {
      "cell_type": "code",
      "execution_count": 25,
      "id": "focal-traffic",
      "metadata": {
        "id": "focal-traffic"
      },
      "outputs": [],
      "source": [
        "# Compilación del modelo\n",
        "# Código aquí\n",
        "model.compile(optimizer='adam', loss=\"mse\", metrics=['mae'])"
      ]
    },
    {
      "cell_type": "code",
      "execution_count": 26,
      "id": "338f8622",
      "metadata": {
        "id": "338f8622"
      },
      "outputs": [],
      "source": [
        "batch_size=15"
      ]
    },
    {
      "cell_type": "code",
      "execution_count": 27,
      "id": "prostate-instrumentation",
      "metadata": {
        "colab": {
          "base_uri": "https://localhost:8080/"
        },
        "id": "prostate-instrumentation",
        "outputId": "404d8ab3-0603-49b0-b1a6-51207486dd95"
      },
      "outputs": [
        {
          "output_type": "stream",
          "name": "stdout",
          "text": [
            "Epoch 1/200\n",
            "260/260 [==============================] - 3s 4ms/step - loss: 2.4645 - mae: 1.0495 - val_loss: 6.6864 - val_mae: 2.4232\n",
            "Epoch 2/200\n",
            "260/260 [==============================] - 1s 4ms/step - loss: 0.7898 - mae: 0.7030 - val_loss: 3.9914 - val_mae: 1.7965\n",
            "Epoch 3/200\n",
            "260/260 [==============================] - 1s 4ms/step - loss: 0.7647 - mae: 0.6881 - val_loss: 2.9365 - val_mae: 1.4885\n",
            "Epoch 4/200\n",
            "260/260 [==============================] - 1s 3ms/step - loss: 0.7312 - mae: 0.6732 - val_loss: 2.3184 - val_mae: 1.2780\n",
            "Epoch 5/200\n",
            "260/260 [==============================] - 1s 5ms/step - loss: 0.7049 - mae: 0.6597 - val_loss: 1.8008 - val_mae: 1.0990\n",
            "Epoch 6/200\n",
            "260/260 [==============================] - 1s 3ms/step - loss: 0.6906 - mae: 0.6522 - val_loss: 1.8200 - val_mae: 1.1060\n",
            "Epoch 7/200\n",
            "260/260 [==============================] - 1s 3ms/step - loss: 0.6547 - mae: 0.6364 - val_loss: 1.9484 - val_mae: 1.1377\n",
            "Epoch 8/200\n",
            "260/260 [==============================] - 1s 3ms/step - loss: 0.6466 - mae: 0.6360 - val_loss: 1.4338 - val_mae: 0.9576\n",
            "Epoch 9/200\n",
            "260/260 [==============================] - 1s 3ms/step - loss: 0.6438 - mae: 0.6335 - val_loss: 1.2875 - val_mae: 0.8995\n",
            "Epoch 10/200\n",
            "260/260 [==============================] - 1s 3ms/step - loss: 0.6276 - mae: 0.6274 - val_loss: 1.1374 - val_mae: 0.8534\n",
            "Epoch 11/200\n",
            "260/260 [==============================] - 1s 3ms/step - loss: 0.6313 - mae: 0.6293 - val_loss: 1.0325 - val_mae: 0.8065\n",
            "Epoch 12/200\n",
            "260/260 [==============================] - 1s 2ms/step - loss: 0.6157 - mae: 0.6203 - val_loss: 0.8322 - val_mae: 0.7325\n",
            "Epoch 13/200\n",
            "260/260 [==============================] - 1s 3ms/step - loss: 0.6267 - mae: 0.6253 - val_loss: 0.9363 - val_mae: 0.7775\n",
            "Epoch 14/200\n",
            "260/260 [==============================] - 1s 2ms/step - loss: 0.6089 - mae: 0.6182 - val_loss: 0.7460 - val_mae: 0.6935\n",
            "Epoch 15/200\n",
            "260/260 [==============================] - 1s 3ms/step - loss: 0.6042 - mae: 0.6145 - val_loss: 0.8036 - val_mae: 0.7215\n",
            "Epoch 16/200\n",
            "260/260 [==============================] - 1s 3ms/step - loss: 0.5969 - mae: 0.6123 - val_loss: 0.7640 - val_mae: 0.6979\n",
            "Epoch 17/200\n",
            "260/260 [==============================] - 1s 4ms/step - loss: 0.5961 - mae: 0.6064 - val_loss: 0.7061 - val_mae: 0.6651\n",
            "Epoch 18/200\n",
            "260/260 [==============================] - 1s 4ms/step - loss: 0.5844 - mae: 0.6042 - val_loss: 0.7189 - val_mae: 0.6693\n",
            "Epoch 19/200\n",
            "260/260 [==============================] - 1s 3ms/step - loss: 0.5979 - mae: 0.6109 - val_loss: 0.6856 - val_mae: 0.6563\n",
            "Epoch 20/200\n",
            "260/260 [==============================] - 1s 3ms/step - loss: 0.5876 - mae: 0.6054 - val_loss: 0.6561 - val_mae: 0.6396\n",
            "Epoch 21/200\n",
            "260/260 [==============================] - 1s 3ms/step - loss: 0.5839 - mae: 0.6035 - val_loss: 0.6549 - val_mae: 0.6355\n",
            "Epoch 22/200\n",
            "260/260 [==============================] - 1s 3ms/step - loss: 0.5804 - mae: 0.6024 - val_loss: 0.6410 - val_mae: 0.6279\n",
            "Epoch 23/200\n",
            "260/260 [==============================] - 1s 3ms/step - loss: 0.5776 - mae: 0.5997 - val_loss: 0.6425 - val_mae: 0.6255\n",
            "Epoch 24/200\n",
            "260/260 [==============================] - 1s 3ms/step - loss: 0.5799 - mae: 0.5998 - val_loss: 0.6040 - val_mae: 0.6082\n",
            "Epoch 25/200\n",
            "260/260 [==============================] - 1s 3ms/step - loss: 0.5811 - mae: 0.5996 - val_loss: 0.6547 - val_mae: 0.6344\n",
            "Epoch 26/200\n",
            "260/260 [==============================] - 1s 3ms/step - loss: 0.5802 - mae: 0.5961 - val_loss: 0.5783 - val_mae: 0.6032\n",
            "Epoch 27/200\n",
            "260/260 [==============================] - 1s 3ms/step - loss: 0.5640 - mae: 0.5883 - val_loss: 0.6655 - val_mae: 0.6363\n",
            "Epoch 28/200\n",
            "260/260 [==============================] - 1s 3ms/step - loss: 0.5720 - mae: 0.5927 - val_loss: 0.6058 - val_mae: 0.6039\n",
            "Epoch 29/200\n",
            "260/260 [==============================] - 1s 3ms/step - loss: 0.5725 - mae: 0.5941 - val_loss: 0.5810 - val_mae: 0.5798\n",
            "Epoch 30/200\n",
            "260/260 [==============================] - 1s 3ms/step - loss: 0.5708 - mae: 0.5931 - val_loss: 0.5619 - val_mae: 0.6038\n",
            "Epoch 31/200\n",
            "260/260 [==============================] - 1s 3ms/step - loss: 0.5643 - mae: 0.5881 - val_loss: 0.6172 - val_mae: 0.6076\n",
            "Epoch 32/200\n",
            "260/260 [==============================] - 1s 3ms/step - loss: 0.5740 - mae: 0.5890 - val_loss: 0.6133 - val_mae: 0.6021\n",
            "Epoch 33/200\n",
            "260/260 [==============================] - 1s 4ms/step - loss: 0.5636 - mae: 0.5867 - val_loss: 0.5983 - val_mae: 0.5995\n",
            "Epoch 34/200\n",
            "260/260 [==============================] - 1s 4ms/step - loss: 0.5674 - mae: 0.5881 - val_loss: 0.5751 - val_mae: 0.5897\n",
            "Epoch 35/200\n",
            "260/260 [==============================] - 1s 3ms/step - loss: 0.5660 - mae: 0.5877 - val_loss: 0.6024 - val_mae: 0.5947\n",
            "Epoch 36/200\n",
            "260/260 [==============================] - 1s 3ms/step - loss: 0.5661 - mae: 0.5910 - val_loss: 0.6100 - val_mae: 0.6200\n",
            "Epoch 37/200\n",
            "260/260 [==============================] - 1s 3ms/step - loss: 0.5608 - mae: 0.5848 - val_loss: 0.5534 - val_mae: 0.5937\n",
            "Epoch 38/200\n",
            "260/260 [==============================] - 1s 3ms/step - loss: 0.5515 - mae: 0.5782 - val_loss: 0.5973 - val_mae: 0.5868\n",
            "Epoch 39/200\n",
            "260/260 [==============================] - 1s 3ms/step - loss: 0.5656 - mae: 0.5897 - val_loss: 0.5966 - val_mae: 0.5902\n",
            "Epoch 40/200\n",
            "260/260 [==============================] - 1s 3ms/step - loss: 0.5523 - mae: 0.5800 - val_loss: 0.5492 - val_mae: 0.5791\n",
            "Epoch 41/200\n",
            "260/260 [==============================] - 1s 3ms/step - loss: 0.5514 - mae: 0.5807 - val_loss: 0.5461 - val_mae: 0.5773\n",
            "Epoch 42/200\n",
            "260/260 [==============================] - 1s 3ms/step - loss: 0.5534 - mae: 0.5827 - val_loss: 0.5592 - val_mae: 0.5676\n",
            "Epoch 43/200\n",
            "260/260 [==============================] - 1s 3ms/step - loss: 0.5519 - mae: 0.5825 - val_loss: 0.5298 - val_mae: 0.5799\n",
            "Epoch 44/200\n",
            "260/260 [==============================] - 1s 3ms/step - loss: 0.5572 - mae: 0.5825 - val_loss: 0.5732 - val_mae: 0.5756\n",
            "Epoch 45/200\n",
            "260/260 [==============================] - 1s 3ms/step - loss: 0.5497 - mae: 0.5741 - val_loss: 0.5309 - val_mae: 0.5769\n",
            "Epoch 46/200\n",
            "260/260 [==============================] - 1s 3ms/step - loss: 0.5533 - mae: 0.5810 - val_loss: 0.5433 - val_mae: 0.5611\n",
            "Epoch 47/200\n",
            "260/260 [==============================] - 1s 3ms/step - loss: 0.5504 - mae: 0.5759 - val_loss: 0.5307 - val_mae: 0.5601\n",
            "Epoch 48/200\n",
            "260/260 [==============================] - 1s 4ms/step - loss: 0.5453 - mae: 0.5712 - val_loss: 0.5520 - val_mae: 0.5542\n",
            "Epoch 49/200\n",
            "260/260 [==============================] - 1s 4ms/step - loss: 0.5542 - mae: 0.5745 - val_loss: 0.5461 - val_mae: 0.5593\n",
            "Epoch 50/200\n",
            "260/260 [==============================] - 1s 5ms/step - loss: 0.5368 - mae: 0.5687 - val_loss: 0.5291 - val_mae: 0.5724\n",
            "Epoch 51/200\n",
            "260/260 [==============================] - 1s 3ms/step - loss: 0.5548 - mae: 0.5810 - val_loss: 0.5601 - val_mae: 0.5590\n",
            "Epoch 52/200\n",
            "260/260 [==============================] - 1s 3ms/step - loss: 0.5413 - mae: 0.5690 - val_loss: 0.5232 - val_mae: 0.5587\n",
            "Epoch 53/200\n",
            "260/260 [==============================] - 1s 3ms/step - loss: 0.5428 - mae: 0.5681 - val_loss: 0.5375 - val_mae: 0.5579\n",
            "Epoch 54/200\n",
            "260/260 [==============================] - 1s 3ms/step - loss: 0.5458 - mae: 0.5716 - val_loss: 0.5216 - val_mae: 0.5548\n",
            "Epoch 55/200\n",
            "260/260 [==============================] - 1s 3ms/step - loss: 0.5406 - mae: 0.5734 - val_loss: 0.5653 - val_mae: 0.5657\n",
            "Epoch 56/200\n",
            "260/260 [==============================] - 1s 3ms/step - loss: 0.5426 - mae: 0.5705 - val_loss: 0.5270 - val_mae: 0.5632\n",
            "Epoch 57/200\n",
            "260/260 [==============================] - 1s 3ms/step - loss: 0.5371 - mae: 0.5664 - val_loss: 0.5431 - val_mae: 0.5576\n",
            "Epoch 58/200\n",
            "260/260 [==============================] - 1s 3ms/step - loss: 0.5353 - mae: 0.5666 - val_loss: 0.5547 - val_mae: 0.5681\n",
            "Epoch 59/200\n",
            "260/260 [==============================] - 1s 3ms/step - loss: 0.5392 - mae: 0.5692 - val_loss: 0.5181 - val_mae: 0.5704\n",
            "Epoch 60/200\n",
            "260/260 [==============================] - 1s 3ms/step - loss: 0.5368 - mae: 0.5668 - val_loss: 0.5505 - val_mae: 0.5659\n",
            "Epoch 61/200\n",
            "260/260 [==============================] - 1s 3ms/step - loss: 0.5298 - mae: 0.5622 - val_loss: 0.5324 - val_mae: 0.5544\n",
            "Epoch 62/200\n",
            "260/260 [==============================] - 1s 3ms/step - loss: 0.5350 - mae: 0.5658 - val_loss: 0.5172 - val_mae: 0.5606\n",
            "Epoch 63/200\n",
            "260/260 [==============================] - 1s 3ms/step - loss: 0.5405 - mae: 0.5677 - val_loss: 0.5238 - val_mae: 0.5480\n",
            "Epoch 64/200\n",
            "260/260 [==============================] - 1s 4ms/step - loss: 0.5340 - mae: 0.5675 - val_loss: 0.5376 - val_mae: 0.5577\n",
            "Epoch 65/200\n",
            "260/260 [==============================] - 1s 4ms/step - loss: 0.5358 - mae: 0.5729 - val_loss: 0.5295 - val_mae: 0.5548\n",
            "Epoch 66/200\n",
            "260/260 [==============================] - 1s 4ms/step - loss: 0.5354 - mae: 0.5646 - val_loss: 0.5114 - val_mae: 0.5445\n",
            "Epoch 67/200\n",
            "260/260 [==============================] - 1s 3ms/step - loss: 0.5295 - mae: 0.5631 - val_loss: 0.5349 - val_mae: 0.5557\n",
            "Epoch 68/200\n",
            "260/260 [==============================] - 1s 3ms/step - loss: 0.5386 - mae: 0.5689 - val_loss: 0.5167 - val_mae: 0.5465\n",
            "Epoch 69/200\n",
            "260/260 [==============================] - 1s 3ms/step - loss: 0.5377 - mae: 0.5690 - val_loss: 0.5478 - val_mae: 0.5870\n",
            "Epoch 70/200\n",
            "260/260 [==============================] - 1s 3ms/step - loss: 0.5341 - mae: 0.5669 - val_loss: 0.5021 - val_mae: 0.5545\n",
            "Epoch 71/200\n",
            "260/260 [==============================] - 1s 3ms/step - loss: 0.5310 - mae: 0.5640 - val_loss: 0.5489 - val_mae: 0.5617\n",
            "Epoch 72/200\n",
            "260/260 [==============================] - 1s 3ms/step - loss: 0.5318 - mae: 0.5673 - val_loss: 0.5118 - val_mae: 0.5463\n",
            "Epoch 73/200\n",
            "260/260 [==============================] - 1s 3ms/step - loss: 0.5290 - mae: 0.5625 - val_loss: 0.5138 - val_mae: 0.5444\n",
            "Epoch 74/200\n",
            "260/260 [==============================] - 1s 3ms/step - loss: 0.5321 - mae: 0.5649 - val_loss: 0.5783 - val_mae: 0.5758\n",
            "Epoch 75/200\n",
            "260/260 [==============================] - 1s 3ms/step - loss: 0.5259 - mae: 0.5609 - val_loss: 0.5167 - val_mae: 0.5521\n",
            "Epoch 76/200\n",
            "260/260 [==============================] - 1s 3ms/step - loss: 0.5351 - mae: 0.5664 - val_loss: 0.5373 - val_mae: 0.5595\n",
            "Epoch 77/200\n",
            "260/260 [==============================] - 1s 3ms/step - loss: 0.5293 - mae: 0.5585 - val_loss: 0.5198 - val_mae: 0.5588\n",
            "Epoch 78/200\n",
            "260/260 [==============================] - 1s 3ms/step - loss: 0.5252 - mae: 0.5543 - val_loss: 0.5132 - val_mae: 0.5646\n",
            "Epoch 79/200\n",
            "260/260 [==============================] - 1s 3ms/step - loss: 0.5311 - mae: 0.5627 - val_loss: 0.5197 - val_mae: 0.5422\n",
            "Epoch 80/200\n",
            "260/260 [==============================] - 1s 3ms/step - loss: 0.5314 - mae: 0.5591 - val_loss: 0.5029 - val_mae: 0.5429\n",
            "Epoch 81/200\n",
            "260/260 [==============================] - 1s 4ms/step - loss: 0.5215 - mae: 0.5573 - val_loss: 0.5012 - val_mae: 0.5437\n",
            "Epoch 82/200\n",
            "260/260 [==============================] - 1s 4ms/step - loss: 0.5162 - mae: 0.5502 - val_loss: 0.5175 - val_mae: 0.5455\n",
            "Epoch 83/200\n",
            "260/260 [==============================] - 1s 3ms/step - loss: 0.5243 - mae: 0.5579 - val_loss: 0.5084 - val_mae: 0.5416\n",
            "Epoch 84/200\n",
            "260/260 [==============================] - 1s 3ms/step - loss: 0.5300 - mae: 0.5595 - val_loss: 0.5014 - val_mae: 0.5493\n",
            "Epoch 85/200\n",
            "260/260 [==============================] - 1s 3ms/step - loss: 0.5240 - mae: 0.5564 - val_loss: 0.5477 - val_mae: 0.5912\n",
            "Epoch 86/200\n",
            "260/260 [==============================] - 1s 3ms/step - loss: 0.5186 - mae: 0.5542 - val_loss: 0.4960 - val_mae: 0.5332\n",
            "Epoch 87/200\n",
            "260/260 [==============================] - 1s 3ms/step - loss: 0.5115 - mae: 0.5488 - val_loss: 0.5034 - val_mae: 0.5374\n",
            "Epoch 88/200\n",
            "260/260 [==============================] - 1s 3ms/step - loss: 0.5256 - mae: 0.5561 - val_loss: 0.5117 - val_mae: 0.5614\n",
            "Epoch 89/200\n",
            "260/260 [==============================] - 1s 3ms/step - loss: 0.5189 - mae: 0.5546 - val_loss: 0.5185 - val_mae: 0.5555\n",
            "Epoch 90/200\n",
            "260/260 [==============================] - 1s 3ms/step - loss: 0.5180 - mae: 0.5526 - val_loss: 0.5090 - val_mae: 0.5396\n",
            "Epoch 91/200\n",
            "260/260 [==============================] - 1s 3ms/step - loss: 0.5220 - mae: 0.5533 - val_loss: 0.4986 - val_mae: 0.5468\n",
            "Epoch 92/200\n",
            "260/260 [==============================] - 1s 3ms/step - loss: 0.5226 - mae: 0.5599 - val_loss: 0.5028 - val_mae: 0.5377\n",
            "Epoch 93/200\n",
            "260/260 [==============================] - 1s 3ms/step - loss: 0.5210 - mae: 0.5596 - val_loss: 0.5063 - val_mae: 0.5397\n",
            "Epoch 94/200\n",
            "260/260 [==============================] - 1s 3ms/step - loss: 0.5206 - mae: 0.5508 - val_loss: 0.4966 - val_mae: 0.5426\n",
            "Epoch 95/200\n",
            "260/260 [==============================] - 1s 3ms/step - loss: 0.5211 - mae: 0.5539 - val_loss: 0.5407 - val_mae: 0.5547\n",
            "Epoch 96/200\n",
            "260/260 [==============================] - 1s 3ms/step - loss: 0.5187 - mae: 0.5519 - val_loss: 0.5330 - val_mae: 0.5506\n",
            "Epoch 97/200\n",
            "260/260 [==============================] - 1s 4ms/step - loss: 0.5146 - mae: 0.5518 - val_loss: 0.5124 - val_mae: 0.5492\n",
            "Epoch 98/200\n",
            "260/260 [==============================] - 2s 8ms/step - loss: 0.5097 - mae: 0.5506 - val_loss: 0.4978 - val_mae: 0.5364\n",
            "Epoch 99/200\n",
            "260/260 [==============================] - 1s 5ms/step - loss: 0.5118 - mae: 0.5492 - val_loss: 0.5031 - val_mae: 0.5326\n",
            "Epoch 100/200\n",
            "260/260 [==============================] - 1s 3ms/step - loss: 0.5114 - mae: 0.5510 - val_loss: 0.5027 - val_mae: 0.5403\n",
            "Epoch 101/200\n",
            "260/260 [==============================] - 1s 3ms/step - loss: 0.5151 - mae: 0.5516 - val_loss: 0.4978 - val_mae: 0.5365\n",
            "Epoch 102/200\n",
            "260/260 [==============================] - 1s 3ms/step - loss: 0.5178 - mae: 0.5554 - val_loss: 0.4922 - val_mae: 0.5427\n",
            "Epoch 103/200\n",
            "260/260 [==============================] - 1s 3ms/step - loss: 0.5108 - mae: 0.5464 - val_loss: 0.4958 - val_mae: 0.5400\n",
            "Epoch 104/200\n",
            "260/260 [==============================] - 1s 3ms/step - loss: 0.5165 - mae: 0.5521 - val_loss: 0.4897 - val_mae: 0.5316\n",
            "Epoch 105/200\n",
            "260/260 [==============================] - 1s 3ms/step - loss: 0.5135 - mae: 0.5503 - val_loss: 0.4961 - val_mae: 0.5345\n",
            "Epoch 106/200\n",
            "260/260 [==============================] - 1s 3ms/step - loss: 0.5135 - mae: 0.5507 - val_loss: 0.4967 - val_mae: 0.5323\n",
            "Epoch 107/200\n",
            "260/260 [==============================] - 1s 3ms/step - loss: 0.5026 - mae: 0.5451 - val_loss: 0.5096 - val_mae: 0.5424\n",
            "Epoch 108/200\n",
            "260/260 [==============================] - 1s 3ms/step - loss: 0.5125 - mae: 0.5482 - val_loss: 0.4903 - val_mae: 0.5333\n",
            "Epoch 109/200\n",
            "260/260 [==============================] - 1s 3ms/step - loss: 0.5061 - mae: 0.5478 - val_loss: 0.4875 - val_mae: 0.5323\n",
            "Epoch 110/200\n",
            "260/260 [==============================] - 1s 3ms/step - loss: 0.5044 - mae: 0.5433 - val_loss: 0.5254 - val_mae: 0.5476\n",
            "Epoch 111/200\n",
            "260/260 [==============================] - 1s 4ms/step - loss: 0.5126 - mae: 0.5501 - val_loss: 0.4907 - val_mae: 0.5453\n",
            "Epoch 112/200\n",
            "260/260 [==============================] - 1s 4ms/step - loss: 0.5081 - mae: 0.5490 - val_loss: 0.4923 - val_mae: 0.5379\n",
            "Epoch 113/200\n",
            "260/260 [==============================] - 1s 4ms/step - loss: 0.5068 - mae: 0.5470 - val_loss: 0.4969 - val_mae: 0.5372\n",
            "Epoch 114/200\n",
            "260/260 [==============================] - 1s 3ms/step - loss: 0.5086 - mae: 0.5479 - val_loss: 0.5018 - val_mae: 0.5366\n",
            "Epoch 115/200\n",
            "260/260 [==============================] - 1s 3ms/step - loss: 0.5106 - mae: 0.5506 - val_loss: 0.4923 - val_mae: 0.5423\n",
            "Epoch 116/200\n",
            "260/260 [==============================] - 1s 3ms/step - loss: 0.5112 - mae: 0.5481 - val_loss: 0.4842 - val_mae: 0.5332\n",
            "Epoch 117/200\n",
            "260/260 [==============================] - 1s 3ms/step - loss: 0.5048 - mae: 0.5475 - val_loss: 0.4876 - val_mae: 0.5308\n",
            "Epoch 118/200\n",
            "260/260 [==============================] - 1s 3ms/step - loss: 0.5098 - mae: 0.5502 - val_loss: 0.5042 - val_mae: 0.5331\n",
            "Epoch 119/200\n",
            "260/260 [==============================] - 1s 3ms/step - loss: 0.4961 - mae: 0.5391 - val_loss: 0.5088 - val_mae: 0.5376\n",
            "Epoch 120/200\n",
            "260/260 [==============================] - 1s 3ms/step - loss: 0.5029 - mae: 0.5454 - val_loss: 0.4830 - val_mae: 0.5251\n",
            "Epoch 121/200\n",
            "260/260 [==============================] - 1s 3ms/step - loss: 0.5084 - mae: 0.5465 - val_loss: 0.4950 - val_mae: 0.5299\n",
            "Epoch 122/200\n",
            "260/260 [==============================] - 1s 3ms/step - loss: 0.5017 - mae: 0.5445 - val_loss: 0.4992 - val_mae: 0.5333\n",
            "Epoch 123/200\n",
            "260/260 [==============================] - 1s 3ms/step - loss: 0.5054 - mae: 0.5477 - val_loss: 0.4987 - val_mae: 0.5364\n",
            "Epoch 124/200\n",
            "260/260 [==============================] - 1s 3ms/step - loss: 0.4986 - mae: 0.5442 - val_loss: 0.5108 - val_mae: 0.5452\n",
            "Epoch 125/200\n",
            "260/260 [==============================] - 1s 3ms/step - loss: 0.5032 - mae: 0.5465 - val_loss: 0.4815 - val_mae: 0.5321\n",
            "Epoch 126/200\n",
            "260/260 [==============================] - 1s 3ms/step - loss: 0.4938 - mae: 0.5410 - val_loss: 0.4914 - val_mae: 0.5426\n",
            "Epoch 127/200\n",
            "260/260 [==============================] - 1s 4ms/step - loss: 0.5048 - mae: 0.5470 - val_loss: 0.4949 - val_mae: 0.5481\n",
            "Epoch 128/200\n",
            "260/260 [==============================] - 1s 4ms/step - loss: 0.5001 - mae: 0.5466 - val_loss: 0.4791 - val_mae: 0.5328\n",
            "Epoch 129/200\n",
            "260/260 [==============================] - 1s 4ms/step - loss: 0.4888 - mae: 0.5366 - val_loss: 0.4820 - val_mae: 0.5336\n",
            "Epoch 130/200\n",
            "260/260 [==============================] - 1s 3ms/step - loss: 0.4953 - mae: 0.5443 - val_loss: 0.5202 - val_mae: 0.5448\n",
            "Epoch 131/200\n",
            "260/260 [==============================] - 1s 3ms/step - loss: 0.4991 - mae: 0.5475 - val_loss: 0.4848 - val_mae: 0.5375\n",
            "Epoch 132/200\n",
            "260/260 [==============================] - 1s 3ms/step - loss: 0.4988 - mae: 0.5427 - val_loss: 0.4962 - val_mae: 0.5361\n",
            "Epoch 133/200\n",
            "260/260 [==============================] - 1s 3ms/step - loss: 0.4974 - mae: 0.5422 - val_loss: 0.4905 - val_mae: 0.5325\n",
            "Epoch 134/200\n",
            "260/260 [==============================] - 1s 3ms/step - loss: 0.4976 - mae: 0.5458 - val_loss: 0.5022 - val_mae: 0.5394\n",
            "Epoch 135/200\n",
            "260/260 [==============================] - 1s 3ms/step - loss: 0.4940 - mae: 0.5408 - val_loss: 0.4949 - val_mae: 0.5383\n",
            "Epoch 136/200\n",
            "260/260 [==============================] - 1s 3ms/step - loss: 0.4896 - mae: 0.5397 - val_loss: 0.4906 - val_mae: 0.5341\n",
            "Epoch 137/200\n",
            "260/260 [==============================] - 1s 3ms/step - loss: 0.4961 - mae: 0.5440 - val_loss: 0.4894 - val_mae: 0.5340\n",
            "Epoch 138/200\n",
            "260/260 [==============================] - 1s 3ms/step - loss: 0.4958 - mae: 0.5391 - val_loss: 0.4881 - val_mae: 0.5481\n",
            "Epoch 139/200\n",
            "260/260 [==============================] - 1s 3ms/step - loss: 0.4889 - mae: 0.5391 - val_loss: 0.4900 - val_mae: 0.5445\n",
            "Epoch 140/200\n",
            "260/260 [==============================] - 1s 3ms/step - loss: 0.4938 - mae: 0.5413 - val_loss: 0.4881 - val_mae: 0.5397\n",
            "Epoch 141/200\n",
            "260/260 [==============================] - 1s 3ms/step - loss: 0.5007 - mae: 0.5442 - val_loss: 0.4866 - val_mae: 0.5477\n",
            "Epoch 142/200\n",
            "260/260 [==============================] - 1s 3ms/step - loss: 0.4969 - mae: 0.5467 - val_loss: 0.4792 - val_mae: 0.5391\n",
            "Epoch 143/200\n",
            "260/260 [==============================] - 1s 4ms/step - loss: 0.4975 - mae: 0.5450 - val_loss: 0.4876 - val_mae: 0.5375\n",
            "Epoch 144/200\n",
            "260/260 [==============================] - 1s 4ms/step - loss: 0.4950 - mae: 0.5390 - val_loss: 0.4881 - val_mae: 0.5399\n",
            "Epoch 145/200\n",
            "260/260 [==============================] - 1s 3ms/step - loss: 0.4952 - mae: 0.5427 - val_loss: 0.4856 - val_mae: 0.5360\n",
            "Epoch 146/200\n",
            "260/260 [==============================] - 1s 3ms/step - loss: 0.4932 - mae: 0.5370 - val_loss: 0.4971 - val_mae: 0.5345\n",
            "Epoch 147/200\n",
            "260/260 [==============================] - 1s 3ms/step - loss: 0.4960 - mae: 0.5441 - val_loss: 0.4821 - val_mae: 0.5374\n",
            "Epoch 148/200\n",
            "260/260 [==============================] - 1s 3ms/step - loss: 0.4888 - mae: 0.5399 - val_loss: 0.4936 - val_mae: 0.5395\n",
            "Epoch 149/200\n",
            "260/260 [==============================] - 1s 3ms/step - loss: 0.4878 - mae: 0.5376 - val_loss: 0.4832 - val_mae: 0.5348\n",
            "Epoch 150/200\n",
            "260/260 [==============================] - 1s 3ms/step - loss: 0.4984 - mae: 0.5403 - val_loss: 0.4851 - val_mae: 0.5294\n",
            "Epoch 151/200\n",
            "260/260 [==============================] - 1s 3ms/step - loss: 0.4925 - mae: 0.5391 - val_loss: 0.4842 - val_mae: 0.5328\n",
            "Epoch 152/200\n",
            "260/260 [==============================] - 1s 3ms/step - loss: 0.4923 - mae: 0.5423 - val_loss: 0.5236 - val_mae: 0.5542\n",
            "Epoch 153/200\n",
            "260/260 [==============================] - 1s 3ms/step - loss: 0.4966 - mae: 0.5399 - val_loss: 0.4897 - val_mae: 0.5483\n",
            "Epoch 154/200\n",
            "260/260 [==============================] - 1s 3ms/step - loss: 0.4828 - mae: 0.5351 - val_loss: 0.4915 - val_mae: 0.5319\n",
            "Epoch 155/200\n",
            "260/260 [==============================] - 1s 3ms/step - loss: 0.4894 - mae: 0.5402 - val_loss: 0.4804 - val_mae: 0.5396\n",
            "Epoch 156/200\n",
            "260/260 [==============================] - 1s 3ms/step - loss: 0.4801 - mae: 0.5342 - val_loss: 0.4876 - val_mae: 0.5261\n",
            "Epoch 157/200\n",
            "260/260 [==============================] - 1s 3ms/step - loss: 0.4883 - mae: 0.5375 - val_loss: 0.4781 - val_mae: 0.5309\n",
            "Epoch 158/200\n",
            "260/260 [==============================] - 1s 3ms/step - loss: 0.4848 - mae: 0.5360 - val_loss: 0.4894 - val_mae: 0.5407\n",
            "Epoch 159/200\n",
            "260/260 [==============================] - 1s 4ms/step - loss: 0.4887 - mae: 0.5365 - val_loss: 0.4848 - val_mae: 0.5381\n",
            "Epoch 160/200\n",
            "260/260 [==============================] - 1s 4ms/step - loss: 0.4870 - mae: 0.5366 - val_loss: 0.4931 - val_mae: 0.5301\n",
            "Epoch 161/200\n",
            "260/260 [==============================] - 1s 3ms/step - loss: 0.4902 - mae: 0.5380 - val_loss: 0.4824 - val_mae: 0.5328\n",
            "Epoch 162/200\n",
            "260/260 [==============================] - 1s 3ms/step - loss: 0.4909 - mae: 0.5409 - val_loss: 0.5216 - val_mae: 0.5474\n",
            "Epoch 163/200\n",
            "260/260 [==============================] - 1s 3ms/step - loss: 0.4860 - mae: 0.5367 - val_loss: 0.5125 - val_mae: 0.5430\n",
            "Epoch 164/200\n",
            "260/260 [==============================] - 1s 3ms/step - loss: 0.4823 - mae: 0.5337 - val_loss: 0.5095 - val_mae: 0.5457\n",
            "Epoch 165/200\n",
            "260/260 [==============================] - 1s 3ms/step - loss: 0.4852 - mae: 0.5396 - val_loss: 0.4841 - val_mae: 0.5391\n",
            "Epoch 166/200\n",
            "260/260 [==============================] - 1s 3ms/step - loss: 0.4826 - mae: 0.5370 - val_loss: 0.4853 - val_mae: 0.5345\n",
            "Epoch 167/200\n",
            "260/260 [==============================] - 1s 3ms/step - loss: 0.4816 - mae: 0.5355 - val_loss: 0.5015 - val_mae: 0.5423\n",
            "Epoch 168/200\n",
            "260/260 [==============================] - 1s 3ms/step - loss: 0.4811 - mae: 0.5358 - val_loss: 0.4822 - val_mae: 0.5380\n",
            "Epoch 169/200\n",
            "260/260 [==============================] - 1s 3ms/step - loss: 0.4899 - mae: 0.5345 - val_loss: 0.4793 - val_mae: 0.5347\n",
            "Epoch 170/200\n",
            "260/260 [==============================] - 1s 3ms/step - loss: 0.4830 - mae: 0.5347 - val_loss: 0.4952 - val_mae: 0.5378\n",
            "Epoch 171/200\n",
            "260/260 [==============================] - 1s 3ms/step - loss: 0.4821 - mae: 0.5337 - val_loss: 0.4938 - val_mae: 0.5388\n",
            "Epoch 172/200\n",
            "260/260 [==============================] - 1s 3ms/step - loss: 0.4835 - mae: 0.5350 - val_loss: 0.5620 - val_mae: 0.5759\n",
            "Epoch 173/200\n",
            "260/260 [==============================] - 1s 3ms/step - loss: 0.4853 - mae: 0.5364 - val_loss: 0.4837 - val_mae: 0.5393\n",
            "Epoch 174/200\n",
            "260/260 [==============================] - 1s 3ms/step - loss: 0.4816 - mae: 0.5322 - val_loss: 0.5162 - val_mae: 0.5545\n",
            "Epoch 175/200\n",
            "260/260 [==============================] - 1s 4ms/step - loss: 0.4829 - mae: 0.5350 - val_loss: 0.4854 - val_mae: 0.5368\n",
            "Epoch 176/200\n",
            "260/260 [==============================] - 1s 4ms/step - loss: 0.4859 - mae: 0.5386 - val_loss: 0.4866 - val_mae: 0.5375\n",
            "Epoch 177/200\n",
            "260/260 [==============================] - 1s 3ms/step - loss: 0.4877 - mae: 0.5399 - val_loss: 0.4813 - val_mae: 0.5367\n",
            "Epoch 178/200\n",
            "260/260 [==============================] - 1s 3ms/step - loss: 0.4840 - mae: 0.5355 - val_loss: 0.4828 - val_mae: 0.5349\n",
            "Epoch 179/200\n",
            "260/260 [==============================] - 1s 3ms/step - loss: 0.4819 - mae: 0.5362 - val_loss: 0.4765 - val_mae: 0.5348\n",
            "Epoch 180/200\n",
            "260/260 [==============================] - 1s 3ms/step - loss: 0.4773 - mae: 0.5343 - val_loss: 0.4775 - val_mae: 0.5339\n",
            "Epoch 181/200\n",
            "260/260 [==============================] - 1s 3ms/step - loss: 0.4787 - mae: 0.5326 - val_loss: 0.4777 - val_mae: 0.5322\n",
            "Epoch 182/200\n",
            "260/260 [==============================] - 1s 3ms/step - loss: 0.4786 - mae: 0.5343 - val_loss: 0.4749 - val_mae: 0.5335\n",
            "Epoch 183/200\n",
            "260/260 [==============================] - 1s 3ms/step - loss: 0.4763 - mae: 0.5334 - val_loss: 0.4767 - val_mae: 0.5350\n",
            "Epoch 184/200\n",
            "260/260 [==============================] - 1s 3ms/step - loss: 0.4757 - mae: 0.5330 - val_loss: 0.4785 - val_mae: 0.5374\n",
            "Epoch 185/200\n",
            "260/260 [==============================] - 1s 3ms/step - loss: 0.4789 - mae: 0.5338 - val_loss: 0.4767 - val_mae: 0.5332\n",
            "Epoch 186/200\n",
            "260/260 [==============================] - 1s 3ms/step - loss: 0.4881 - mae: 0.5389 - val_loss: 0.4829 - val_mae: 0.5297\n",
            "Epoch 187/200\n",
            "260/260 [==============================] - 1s 3ms/step - loss: 0.4735 - mae: 0.5303 - val_loss: 0.4709 - val_mae: 0.5295\n",
            "Epoch 188/200\n",
            "260/260 [==============================] - 1s 3ms/step - loss: 0.4757 - mae: 0.5317 - val_loss: 0.4739 - val_mae: 0.5305\n",
            "Epoch 189/200\n",
            "260/260 [==============================] - 1s 3ms/step - loss: 0.4708 - mae: 0.5229 - val_loss: 0.4767 - val_mae: 0.5261\n",
            "Epoch 190/200\n",
            "260/260 [==============================] - 1s 3ms/step - loss: 0.4815 - mae: 0.5326 - val_loss: 0.4842 - val_mae: 0.5323\n",
            "Epoch 191/200\n",
            "260/260 [==============================] - 1s 4ms/step - loss: 0.4829 - mae: 0.5357 - val_loss: 0.5003 - val_mae: 0.5386\n",
            "Epoch 192/200\n",
            "260/260 [==============================] - 1s 4ms/step - loss: 0.4764 - mae: 0.5345 - val_loss: 0.4775 - val_mae: 0.5380\n",
            "Epoch 193/200\n",
            "260/260 [==============================] - 1s 3ms/step - loss: 0.4791 - mae: 0.5335 - val_loss: 0.4868 - val_mae: 0.5312\n",
            "Epoch 194/200\n",
            "260/260 [==============================] - 1s 3ms/step - loss: 0.4710 - mae: 0.5262 - val_loss: 0.4900 - val_mae: 0.5445\n",
            "Epoch 195/200\n",
            "260/260 [==============================] - 1s 3ms/step - loss: 0.4803 - mae: 0.5347 - val_loss: 0.4717 - val_mae: 0.5274\n",
            "Epoch 196/200\n",
            "260/260 [==============================] - 1s 3ms/step - loss: 0.4820 - mae: 0.5359 - val_loss: 0.4755 - val_mae: 0.5326\n",
            "Epoch 197/200\n",
            "260/260 [==============================] - 1s 3ms/step - loss: 0.4726 - mae: 0.5300 - val_loss: 0.4766 - val_mae: 0.5350\n",
            "Epoch 198/200\n",
            "260/260 [==============================] - 1s 3ms/step - loss: 0.4733 - mae: 0.5281 - val_loss: 0.4791 - val_mae: 0.5338\n",
            "Epoch 199/200\n",
            "260/260 [==============================] - 1s 3ms/step - loss: 0.4735 - mae: 0.5347 - val_loss: 0.4835 - val_mae: 0.5414\n",
            "Epoch 200/200\n",
            "260/260 [==============================] - 1s 3ms/step - loss: 0.4706 - mae: 0.5297 - val_loss: 0.4692 - val_mae: 0.5278\n"
          ]
        },
        {
          "output_type": "execute_result",
          "data": {
            "text/plain": [
              "<keras.callbacks.History at 0x7df1c79d7670>"
            ]
          },
          "metadata": {},
          "execution_count": 27
        }
      ],
      "source": [
        "# No modifique el código\n",
        "model.fit(x_train,\n",
        "          y_train,\n",
        "          epochs=200,\n",
        "          batch_size=batch_size,\n",
        "          validation_split=0.2,\n",
        "          verbose=1)"
      ]
    },
    {
      "cell_type": "code",
      "execution_count": 28,
      "id": "friendly-powell",
      "metadata": {
        "colab": {
          "base_uri": "https://localhost:8080/"
        },
        "id": "friendly-powell",
        "outputId": "1c78ae67-502a-48cd-b16e-8bb493c429ab"
      },
      "outputs": [
        {
          "output_type": "stream",
          "name": "stdout",
          "text": [
            "51/51 [==============================] - 0s 2ms/step - loss: 1.3091 - mae: 0.9125\n",
            "Test Loss: [1.3090698719024658, 0.9125260710716248]\n"
          ]
        }
      ],
      "source": [
        "# No modifique el código\n",
        "results = model.evaluate(x_test, y_test, verbose=1)\n",
        "print('Test Loss: {}'.format(results))"
      ]
    },
    {
      "cell_type": "markdown",
      "id": "british-vegetation",
      "metadata": {
        "id": "british-vegetation"
      },
      "source": [
        "<a name='1.3'></a>\n",
        "## Cuestión 3: Utilice el mismo modelo de la cuestión anterior pero añadiendo un callback de early stopping."
      ]
    },
    {
      "cell_type": "code",
      "execution_count": 29,
      "id": "precise-finish",
      "metadata": {
        "colab": {
          "base_uri": "https://localhost:8080/"
        },
        "id": "precise-finish",
        "outputId": "1d82edfd-949f-49b4-e762-e4011c40f97f"
      },
      "outputs": [
        {
          "output_type": "stream",
          "name": "stdout",
          "text": [
            "Model: \"sequential_7\"\n",
            "_________________________________________________________________\n",
            " Layer (type)                Output Shape              Param #   \n",
            "=================================================================\n",
            " hidden_layer_1 (Dense)      (None, 64)                768       \n",
            "                                                                 \n",
            " gaussian_noise_1 (GaussianN  (None, 64)               0         \n",
            " oise)                                                           \n",
            "                                                                 \n",
            " hidden_layer_2 (Dense)      (None, 63)                4095      \n",
            "                                                                 \n",
            " batch_normalization_1 (Batc  (None, 63)               252       \n",
            " hNormalization)                                                 \n",
            "                                                                 \n",
            " activation_1 (Activation)   (None, 63)                0         \n",
            "                                                                 \n",
            " hidden_layer_3 (Dense)      (None, 64)                4096      \n",
            "                                                                 \n",
            " hidden_layer_4 (Dense)      (None, 64)                4160      \n",
            "                                                                 \n",
            " output_layer (Dense)        (None, 1)                 65        \n",
            "                                                                 \n",
            "=================================================================\n",
            "Total params: 13,436\n",
            "Trainable params: 13,310\n",
            "Non-trainable params: 126\n",
            "_________________________________________________________________\n"
          ]
        }
      ],
      "source": [
        "model = tf.keras.models.Sequential()\n",
        "# Hidden layers\n",
        "\n",
        "model.add(tf.keras.layers.Dense(64, input_shape=(11, ), activation='relu', name='hidden_layer_1'))\n",
        "# Noise injection\n",
        "model.add(layers.GaussianNoise(2))\n",
        "\n",
        "# L2 regularization\n",
        "kerner_regularizer_l2 = regularizers.l2(1e-5)\n",
        "\n",
        "model.add(layers.Dense(63, kernel_regularizer=kerner_regularizer_l2, activation=\"tanh\", name=\"hidden_layer_2\"))\n",
        "\n",
        "# Batch Normalization\n",
        "model.add(layers.BatchNormalization())\n",
        "model.add(tf.keras.layers.Activation('relu'))\n",
        "\n",
        "model.add(layers.Dense(64, activation='tanh', name=\"hidden_layer_3\"))\n",
        "\n",
        "model.add(layers.Dense(64, activation='relu', name=\"hidden_layer_4\"))\n",
        "\n",
        "# Output layer\n",
        "model.add(layers.Dense(1, activation='linear', name='output_layer'))\n",
        "\n",
        "model.summary()"
      ]
    },
    {
      "cell_type": "code",
      "execution_count": 30,
      "id": "blond-telephone",
      "metadata": {
        "id": "blond-telephone"
      },
      "outputs": [],
      "source": [
        "# Compilación del modelo\n",
        "# Código aquí\n",
        "model.compile(optimizer='adam', loss=\"mse\", metrics=['mae'])"
      ]
    },
    {
      "cell_type": "code",
      "execution_count": 31,
      "id": "subsequent-roads",
      "metadata": {
        "colab": {
          "base_uri": "https://localhost:8080/"
        },
        "id": "subsequent-roads",
        "outputId": "c6d8b658-b562-42df-a775-2f3881c948f3"
      },
      "outputs": [
        {
          "output_type": "stream",
          "name": "stdout",
          "text": [
            "Epoch 1/200\n",
            "122/122 [==============================] - 2s 7ms/step - loss: 5.3637 - mae: 1.5728 - val_loss: 8.2640 - val_mae: 2.7251\n",
            "Epoch 2/200\n",
            "122/122 [==============================] - 1s 5ms/step - loss: 0.8091 - mae: 0.7091 - val_loss: 6.0925 - val_mae: 2.3023\n",
            "Epoch 3/200\n",
            "122/122 [==============================] - 1s 4ms/step - loss: 0.7732 - mae: 0.6876 - val_loss: 4.9599 - val_mae: 2.0322\n",
            "Epoch 4/200\n",
            "122/122 [==============================] - 1s 5ms/step - loss: 0.7421 - mae: 0.6786 - val_loss: 4.0133 - val_mae: 1.7679\n",
            "Epoch 5/200\n",
            "122/122 [==============================] - 0s 3ms/step - loss: 0.7116 - mae: 0.6602 - val_loss: 3.6356 - val_mae: 1.6435\n",
            "Epoch 6/200\n",
            "122/122 [==============================] - 0s 3ms/step - loss: 0.7098 - mae: 0.6615 - val_loss: 2.8409 - val_mae: 1.4169\n",
            "Epoch 7/200\n",
            "122/122 [==============================] - 0s 3ms/step - loss: 0.6840 - mae: 0.6466 - val_loss: 2.9355 - val_mae: 1.4392\n",
            "Epoch 8/200\n",
            "122/122 [==============================] - 0s 3ms/step - loss: 0.6884 - mae: 0.6484 - val_loss: 2.3100 - val_mae: 1.2631\n",
            "Epoch 9/200\n",
            "122/122 [==============================] - 0s 3ms/step - loss: 0.6732 - mae: 0.6437 - val_loss: 2.2308 - val_mae: 1.2421\n",
            "Epoch 10/200\n",
            "122/122 [==============================] - 0s 3ms/step - loss: 0.6511 - mae: 0.6362 - val_loss: 2.0064 - val_mae: 1.1673\n",
            "Epoch 11/200\n",
            "122/122 [==============================] - 0s 3ms/step - loss: 0.6384 - mae: 0.6295 - val_loss: 1.7780 - val_mae: 1.0987\n",
            "Epoch 12/200\n",
            "122/122 [==============================] - 0s 3ms/step - loss: 0.6338 - mae: 0.6260 - val_loss: 1.4906 - val_mae: 0.9990\n",
            "Epoch 13/200\n",
            "122/122 [==============================] - 0s 3ms/step - loss: 0.6325 - mae: 0.6256 - val_loss: 1.3429 - val_mae: 0.9468\n",
            "Epoch 14/200\n",
            "122/122 [==============================] - 0s 3ms/step - loss: 0.6141 - mae: 0.6175 - val_loss: 1.3818 - val_mae: 0.9655\n",
            "Epoch 15/200\n",
            "122/122 [==============================] - 0s 3ms/step - loss: 0.6285 - mae: 0.6231 - val_loss: 1.2325 - val_mae: 0.9009\n",
            "Epoch 16/200\n",
            "122/122 [==============================] - 0s 3ms/step - loss: 0.6132 - mae: 0.6200 - val_loss: 1.1164 - val_mae: 0.8551\n",
            "Epoch 17/200\n",
            "122/122 [==============================] - 0s 3ms/step - loss: 0.6059 - mae: 0.6147 - val_loss: 1.2084 - val_mae: 0.8986\n",
            "Epoch 18/200\n",
            "122/122 [==============================] - 0s 3ms/step - loss: 0.6045 - mae: 0.6129 - val_loss: 0.9851 - val_mae: 0.7868\n",
            "Epoch 19/200\n",
            "122/122 [==============================] - 0s 3ms/step - loss: 0.5929 - mae: 0.6106 - val_loss: 0.9851 - val_mae: 0.7983\n",
            "Epoch 20/200\n",
            "122/122 [==============================] - 0s 3ms/step - loss: 0.6068 - mae: 0.6159 - val_loss: 0.8924 - val_mae: 0.7451\n",
            "Epoch 21/200\n",
            "122/122 [==============================] - 0s 3ms/step - loss: 0.5900 - mae: 0.6085 - val_loss: 0.9048 - val_mae: 0.7479\n",
            "Epoch 22/200\n",
            "122/122 [==============================] - 0s 3ms/step - loss: 0.6150 - mae: 0.6133 - val_loss: 0.9165 - val_mae: 0.7715\n",
            "Epoch 23/200\n",
            "122/122 [==============================] - 0s 3ms/step - loss: 0.5890 - mae: 0.6066 - val_loss: 0.7637 - val_mae: 0.6817\n",
            "Epoch 24/200\n",
            "122/122 [==============================] - 0s 3ms/step - loss: 0.6015 - mae: 0.6162 - val_loss: 0.8255 - val_mae: 0.7243\n",
            "Epoch 25/200\n",
            "122/122 [==============================] - 0s 3ms/step - loss: 0.5794 - mae: 0.6015 - val_loss: 0.7928 - val_mae: 0.7009\n",
            "Epoch 26/200\n",
            "122/122 [==============================] - 0s 3ms/step - loss: 0.5805 - mae: 0.5996 - val_loss: 0.6998 - val_mae: 0.6506\n",
            "Epoch 27/200\n",
            "122/122 [==============================] - 0s 3ms/step - loss: 0.5867 - mae: 0.6034 - val_loss: 0.7487 - val_mae: 0.6809\n",
            "Epoch 28/200\n",
            "122/122 [==============================] - 0s 3ms/step - loss: 0.5863 - mae: 0.6021 - val_loss: 0.7463 - val_mae: 0.6848\n",
            "Epoch 29/200\n",
            "122/122 [==============================] - 0s 3ms/step - loss: 0.5857 - mae: 0.6020 - val_loss: 0.6425 - val_mae: 0.6180\n",
            "Epoch 30/200\n",
            "122/122 [==============================] - 0s 3ms/step - loss: 0.5771 - mae: 0.5973 - val_loss: 0.6690 - val_mae: 0.6390\n",
            "Epoch 31/200\n",
            "122/122 [==============================] - 0s 4ms/step - loss: 0.5825 - mae: 0.6007 - val_loss: 0.7352 - val_mae: 0.6775\n",
            "Epoch 32/200\n",
            "122/122 [==============================] - 1s 5ms/step - loss: 0.5752 - mae: 0.5964 - val_loss: 0.6918 - val_mae: 0.6425\n",
            "Epoch 33/200\n",
            "122/122 [==============================] - 1s 5ms/step - loss: 0.5733 - mae: 0.5975 - val_loss: 0.7179 - val_mae: 0.6728\n",
            "Epoch 34/200\n",
            "122/122 [==============================] - 1s 4ms/step - loss: 0.5737 - mae: 0.5973 - val_loss: 0.6989 - val_mae: 0.6274\n",
            "Epoch 35/200\n",
            "122/122 [==============================] - 1s 4ms/step - loss: 0.5766 - mae: 0.6005 - val_loss: 0.7129 - val_mae: 0.6500\n",
            "Epoch 36/200\n",
            "122/122 [==============================] - 0s 4ms/step - loss: 0.5730 - mae: 0.5953 - val_loss: 0.7399 - val_mae: 0.6521\n",
            "Epoch 37/200\n",
            "122/122 [==============================] - 0s 3ms/step - loss: 0.5679 - mae: 0.5897 - val_loss: 0.6267 - val_mae: 0.6040\n",
            "Epoch 38/200\n",
            "122/122 [==============================] - 0s 3ms/step - loss: 0.5615 - mae: 0.5896 - val_loss: 0.6144 - val_mae: 0.5991\n",
            "Epoch 39/200\n",
            "122/122 [==============================] - 0s 3ms/step - loss: 0.5641 - mae: 0.5868 - val_loss: 0.5895 - val_mae: 0.5869\n",
            "Epoch 40/200\n",
            "122/122 [==============================] - 0s 3ms/step - loss: 0.5592 - mae: 0.5825 - val_loss: 0.6089 - val_mae: 0.5981\n",
            "Epoch 41/200\n",
            "122/122 [==============================] - 0s 3ms/step - loss: 0.5676 - mae: 0.5935 - val_loss: 0.6299 - val_mae: 0.6028\n",
            "Epoch 42/200\n",
            "122/122 [==============================] - 0s 3ms/step - loss: 0.5642 - mae: 0.5911 - val_loss: 0.6296 - val_mae: 0.5982\n",
            "Epoch 43/200\n",
            "122/122 [==============================] - 0s 3ms/step - loss: 0.5650 - mae: 0.5844 - val_loss: 0.6188 - val_mae: 0.5968\n",
            "Epoch 44/200\n",
            "122/122 [==============================] - 0s 3ms/step - loss: 0.5526 - mae: 0.5785 - val_loss: 0.6207 - val_mae: 0.6000\n",
            "Epoch 45/200\n",
            "122/122 [==============================] - 0s 3ms/step - loss: 0.5668 - mae: 0.5884 - val_loss: 0.6445 - val_mae: 0.6207\n",
            "Epoch 46/200\n",
            "122/122 [==============================] - 0s 3ms/step - loss: 0.5649 - mae: 0.5873 - val_loss: 0.5989 - val_mae: 0.5880\n",
            "Epoch 47/200\n",
            "122/122 [==============================] - 0s 3ms/step - loss: 0.5552 - mae: 0.5845 - val_loss: 0.5760 - val_mae: 0.5987\n",
            "Epoch 48/200\n",
            "122/122 [==============================] - 0s 3ms/step - loss: 0.5655 - mae: 0.5915 - val_loss: 0.5604 - val_mae: 0.5870\n",
            "Epoch 49/200\n",
            "122/122 [==============================] - 0s 3ms/step - loss: 0.5543 - mae: 0.5802 - val_loss: 0.5794 - val_mae: 0.5894\n",
            "Epoch 50/200\n",
            "122/122 [==============================] - 0s 3ms/step - loss: 0.5481 - mae: 0.5781 - val_loss: 0.5549 - val_mae: 0.5745\n",
            "Epoch 51/200\n",
            "122/122 [==============================] - 0s 3ms/step - loss: 0.5628 - mae: 0.5841 - val_loss: 0.5677 - val_mae: 0.5776\n",
            "Epoch 52/200\n",
            "122/122 [==============================] - 0s 3ms/step - loss: 0.5553 - mae: 0.5783 - val_loss: 0.5571 - val_mae: 0.5747\n",
            "Epoch 53/200\n",
            "122/122 [==============================] - 0s 3ms/step - loss: 0.5494 - mae: 0.5742 - val_loss: 0.6029 - val_mae: 0.6012\n",
            "Epoch 54/200\n",
            "122/122 [==============================] - 0s 3ms/step - loss: 0.5493 - mae: 0.5759 - val_loss: 0.5600 - val_mae: 0.5735\n",
            "Epoch 55/200\n",
            "122/122 [==============================] - 0s 3ms/step - loss: 0.5488 - mae: 0.5752 - val_loss: 0.5556 - val_mae: 0.5705\n",
            "Epoch 56/200\n",
            "122/122 [==============================] - 0s 3ms/step - loss: 0.5541 - mae: 0.5770 - val_loss: 0.5584 - val_mae: 0.5792\n",
            "Epoch 57/200\n",
            "122/122 [==============================] - 0s 3ms/step - loss: 0.5539 - mae: 0.5812 - val_loss: 0.5644 - val_mae: 0.5717\n",
            "Epoch 58/200\n",
            "122/122 [==============================] - 0s 3ms/step - loss: 0.5473 - mae: 0.5746 - val_loss: 0.5819 - val_mae: 0.5905\n",
            "Epoch 59/200\n",
            "122/122 [==============================] - 0s 3ms/step - loss: 0.5441 - mae: 0.5739 - val_loss: 0.5484 - val_mae: 0.5712\n",
            "Epoch 60/200\n",
            "122/122 [==============================] - 0s 3ms/step - loss: 0.5513 - mae: 0.5766 - val_loss: 0.5734 - val_mae: 0.5842\n",
            "Epoch 61/200\n",
            "122/122 [==============================] - 0s 3ms/step - loss: 0.5461 - mae: 0.5730 - val_loss: 0.5718 - val_mae: 0.5819\n",
            "Epoch 62/200\n",
            "122/122 [==============================] - 0s 3ms/step - loss: 0.5467 - mae: 0.5730 - val_loss: 0.5680 - val_mae: 0.5784\n",
            "Epoch 63/200\n",
            "122/122 [==============================] - 1s 6ms/step - loss: 0.5485 - mae: 0.5756 - val_loss: 0.5632 - val_mae: 0.5725\n",
            "Epoch 64/200\n",
            "122/122 [==============================] - 1s 5ms/step - loss: 0.5505 - mae: 0.5771 - val_loss: 0.5775 - val_mae: 0.5766\n",
            "Epoch 65/200\n",
            "122/122 [==============================] - 1s 4ms/step - loss: 0.5390 - mae: 0.5726 - val_loss: 0.5537 - val_mae: 0.5785\n",
            "Epoch 66/200\n",
            "122/122 [==============================] - 1s 5ms/step - loss: 0.5472 - mae: 0.5760 - val_loss: 0.5452 - val_mae: 0.5840\n",
            "Epoch 67/200\n",
            "122/122 [==============================] - 0s 3ms/step - loss: 0.5443 - mae: 0.5726 - val_loss: 0.5445 - val_mae: 0.5699\n",
            "Epoch 68/200\n",
            "122/122 [==============================] - 0s 3ms/step - loss: 0.5413 - mae: 0.5726 - val_loss: 0.5339 - val_mae: 0.5703\n",
            "Epoch 69/200\n",
            "122/122 [==============================] - 0s 3ms/step - loss: 0.5464 - mae: 0.5711 - val_loss: 0.5589 - val_mae: 0.5756\n",
            "Epoch 70/200\n",
            "122/122 [==============================] - 0s 3ms/step - loss: 0.5494 - mae: 0.5744 - val_loss: 0.5405 - val_mae: 0.5622\n",
            "Epoch 71/200\n",
            "122/122 [==============================] - 0s 3ms/step - loss: 0.5482 - mae: 0.5781 - val_loss: 0.5458 - val_mae: 0.5572\n",
            "Epoch 72/200\n",
            "122/122 [==============================] - 0s 3ms/step - loss: 0.5324 - mae: 0.5645 - val_loss: 0.5333 - val_mae: 0.5551\n",
            "Epoch 73/200\n",
            "122/122 [==============================] - 0s 3ms/step - loss: 0.5409 - mae: 0.5691 - val_loss: 0.5508 - val_mae: 0.5637\n",
            "Epoch 74/200\n",
            "122/122 [==============================] - 0s 3ms/step - loss: 0.5361 - mae: 0.5691 - val_loss: 0.5367 - val_mae: 0.5530\n",
            "Epoch 75/200\n",
            "122/122 [==============================] - 0s 3ms/step - loss: 0.5403 - mae: 0.5673 - val_loss: 0.5583 - val_mae: 0.5668\n",
            "Epoch 76/200\n",
            "122/122 [==============================] - 0s 3ms/step - loss: 0.5365 - mae: 0.5696 - val_loss: 0.5364 - val_mae: 0.5561\n",
            "Epoch 77/200\n",
            "122/122 [==============================] - 0s 3ms/step - loss: 0.5401 - mae: 0.5680 - val_loss: 0.5536 - val_mae: 0.5619\n",
            "Epoch 78/200\n",
            "122/122 [==============================] - 0s 3ms/step - loss: 0.5356 - mae: 0.5654 - val_loss: 0.5294 - val_mae: 0.5661\n",
            "Epoch 79/200\n",
            "122/122 [==============================] - 0s 3ms/step - loss: 0.5244 - mae: 0.5616 - val_loss: 0.5343 - val_mae: 0.5539\n",
            "Epoch 80/200\n",
            "122/122 [==============================] - 0s 3ms/step - loss: 0.5383 - mae: 0.5685 - val_loss: 0.5459 - val_mae: 0.5608\n",
            "Epoch 81/200\n",
            "122/122 [==============================] - 0s 3ms/step - loss: 0.5339 - mae: 0.5655 - val_loss: 0.5265 - val_mae: 0.5550\n",
            "Epoch 82/200\n",
            "122/122 [==============================] - 0s 3ms/step - loss: 0.5385 - mae: 0.5647 - val_loss: 0.5799 - val_mae: 0.5805\n",
            "Epoch 83/200\n",
            "122/122 [==============================] - 0s 3ms/step - loss: 0.5351 - mae: 0.5640 - val_loss: 0.5682 - val_mae: 0.5690\n",
            "Epoch 84/200\n",
            "122/122 [==============================] - 0s 3ms/step - loss: 0.5237 - mae: 0.5571 - val_loss: 0.5076 - val_mae: 0.5484\n",
            "Epoch 85/200\n",
            "122/122 [==============================] - 0s 3ms/step - loss: 0.5320 - mae: 0.5642 - val_loss: 0.5231 - val_mae: 0.5813\n",
            "Epoch 86/200\n",
            "122/122 [==============================] - 0s 3ms/step - loss: 0.5258 - mae: 0.5616 - val_loss: 0.5156 - val_mae: 0.5376\n",
            "Epoch 87/200\n",
            "122/122 [==============================] - 0s 3ms/step - loss: 0.5225 - mae: 0.5569 - val_loss: 0.5387 - val_mae: 0.5545\n",
            "Epoch 88/200\n",
            "122/122 [==============================] - 0s 3ms/step - loss: 0.5274 - mae: 0.5615 - val_loss: 0.5184 - val_mae: 0.5541\n",
            "Epoch 89/200\n",
            "122/122 [==============================] - 0s 3ms/step - loss: 0.5329 - mae: 0.5644 - val_loss: 0.5208 - val_mae: 0.5493\n",
            "Epoch 90/200\n",
            "122/122 [==============================] - 0s 3ms/step - loss: 0.5239 - mae: 0.5609 - val_loss: 0.5298 - val_mae: 0.5538\n",
            "Epoch 91/200\n",
            "122/122 [==============================] - 0s 3ms/step - loss: 0.5277 - mae: 0.5624 - val_loss: 0.5178 - val_mae: 0.5594\n",
            "Epoch 92/200\n",
            "122/122 [==============================] - 0s 3ms/step - loss: 0.5261 - mae: 0.5589 - val_loss: 0.5058 - val_mae: 0.5436\n",
            "Epoch 93/200\n",
            "122/122 [==============================] - 0s 3ms/step - loss: 0.5212 - mae: 0.5580 - val_loss: 0.5188 - val_mae: 0.5386\n",
            "Epoch 94/200\n",
            "122/122 [==============================] - 1s 5ms/step - loss: 0.5306 - mae: 0.5561 - val_loss: 0.5250 - val_mae: 0.5661\n",
            "Epoch 95/200\n",
            "122/122 [==============================] - 1s 5ms/step - loss: 0.5235 - mae: 0.5591 - val_loss: 0.5241 - val_mae: 0.5437\n",
            "Epoch 96/200\n",
            "122/122 [==============================] - 1s 5ms/step - loss: 0.5169 - mae: 0.5571 - val_loss: 0.5069 - val_mae: 0.5419\n",
            "Epoch 97/200\n",
            "122/122 [==============================] - 1s 6ms/step - loss: 0.5231 - mae: 0.5581 - val_loss: 0.5063 - val_mae: 0.5426\n",
            "Epoch 98/200\n",
            "122/122 [==============================] - 0s 3ms/step - loss: 0.5212 - mae: 0.5580 - val_loss: 0.5051 - val_mae: 0.5539\n",
            "Epoch 99/200\n",
            "122/122 [==============================] - 0s 3ms/step - loss: 0.5240 - mae: 0.5593 - val_loss: 0.5183 - val_mae: 0.5415\n",
            "Epoch 100/200\n",
            "122/122 [==============================] - 0s 3ms/step - loss: 0.5283 - mae: 0.5590 - val_loss: 0.5192 - val_mae: 0.5440\n",
            "Epoch 101/200\n",
            "122/122 [==============================] - 0s 3ms/step - loss: 0.5176 - mae: 0.5535 - val_loss: 0.5242 - val_mae: 0.5433\n",
            "Epoch 102/200\n",
            "122/122 [==============================] - 0s 3ms/step - loss: 0.5254 - mae: 0.5627 - val_loss: 0.5114 - val_mae: 0.5470\n",
            "Epoch 103/200\n",
            "122/122 [==============================] - 0s 3ms/step - loss: 0.5246 - mae: 0.5576 - val_loss: 0.5068 - val_mae: 0.5567\n",
            "Epoch 104/200\n",
            "122/122 [==============================] - 0s 3ms/step - loss: 0.5234 - mae: 0.5612 - val_loss: 0.4988 - val_mae: 0.5506\n",
            "Epoch 105/200\n",
            "122/122 [==============================] - 0s 3ms/step - loss: 0.5302 - mae: 0.5656 - val_loss: 0.5331 - val_mae: 0.5622\n",
            "Epoch 106/200\n",
            "122/122 [==============================] - 0s 3ms/step - loss: 0.5188 - mae: 0.5546 - val_loss: 0.5349 - val_mae: 0.5554\n",
            "Epoch 107/200\n",
            "122/122 [==============================] - 0s 3ms/step - loss: 0.5101 - mae: 0.5536 - val_loss: 0.5345 - val_mae: 0.5480\n",
            "Epoch 108/200\n",
            "122/122 [==============================] - 0s 3ms/step - loss: 0.5182 - mae: 0.5515 - val_loss: 0.5111 - val_mae: 0.5550\n",
            "Epoch 109/200\n",
            "122/122 [==============================] - 0s 3ms/step - loss: 0.5189 - mae: 0.5544 - val_loss: 0.5049 - val_mae: 0.5545\n",
            "Epoch 110/200\n",
            "122/122 [==============================] - 0s 3ms/step - loss: 0.5235 - mae: 0.5583 - val_loss: 0.5376 - val_mae: 0.5465\n",
            "Epoch 111/200\n",
            "122/122 [==============================] - 0s 3ms/step - loss: 0.5169 - mae: 0.5540 - val_loss: 0.4998 - val_mae: 0.5462\n",
            "Epoch 112/200\n",
            "122/122 [==============================] - 0s 3ms/step - loss: 0.5248 - mae: 0.5606 - val_loss: 0.5285 - val_mae: 0.5764\n",
            "Epoch 113/200\n",
            "122/122 [==============================] - 0s 3ms/step - loss: 0.5178 - mae: 0.5570 - val_loss: 0.5142 - val_mae: 0.5453\n",
            "Epoch 114/200\n",
            "122/122 [==============================] - 0s 3ms/step - loss: 0.5142 - mae: 0.5515 - val_loss: 0.4977 - val_mae: 0.5416\n",
            "Epoch 115/200\n",
            "122/122 [==============================] - 0s 3ms/step - loss: 0.5211 - mae: 0.5546 - val_loss: 0.5017 - val_mae: 0.5410\n",
            "Epoch 116/200\n",
            "122/122 [==============================] - 0s 3ms/step - loss: 0.5205 - mae: 0.5565 - val_loss: 0.5046 - val_mae: 0.5519\n",
            "Epoch 117/200\n",
            "122/122 [==============================] - 0s 3ms/step - loss: 0.5122 - mae: 0.5538 - val_loss: 0.5027 - val_mae: 0.5406\n",
            "Epoch 118/200\n",
            "122/122 [==============================] - 0s 3ms/step - loss: 0.5136 - mae: 0.5537 - val_loss: 0.5090 - val_mae: 0.5462\n",
            "Epoch 119/200\n",
            "122/122 [==============================] - 0s 3ms/step - loss: 0.5126 - mae: 0.5511 - val_loss: 0.5047 - val_mae: 0.5407\n",
            "Epoch 120/200\n",
            "122/122 [==============================] - 0s 3ms/step - loss: 0.5144 - mae: 0.5546 - val_loss: 0.5138 - val_mae: 0.5421\n",
            "Epoch 121/200\n",
            "122/122 [==============================] - 0s 3ms/step - loss: 0.5127 - mae: 0.5524 - val_loss: 0.4971 - val_mae: 0.5361\n",
            "Epoch 122/200\n",
            "122/122 [==============================] - 0s 3ms/step - loss: 0.5227 - mae: 0.5554 - val_loss: 0.5021 - val_mae: 0.5384\n",
            "Epoch 123/200\n",
            "122/122 [==============================] - 1s 5ms/step - loss: 0.5090 - mae: 0.5506 - val_loss: 0.5031 - val_mae: 0.5414\n",
            "Epoch 124/200\n",
            "122/122 [==============================] - 1s 12ms/step - loss: 0.5130 - mae: 0.5541 - val_loss: 0.5069 - val_mae: 0.5441\n",
            "Epoch 125/200\n",
            "122/122 [==============================] - 1s 6ms/step - loss: 0.5109 - mae: 0.5538 - val_loss: 0.5016 - val_mae: 0.5403\n",
            "Epoch 126/200\n",
            "122/122 [==============================] - 1s 4ms/step - loss: 0.5092 - mae: 0.5474 - val_loss: 0.5124 - val_mae: 0.5542\n",
            "Epoch 127/200\n",
            "122/122 [==============================] - 0s 3ms/step - loss: 0.5124 - mae: 0.5525 - val_loss: 0.5059 - val_mae: 0.5542\n",
            "Epoch 128/200\n",
            "122/122 [==============================] - 0s 3ms/step - loss: 0.5089 - mae: 0.5521 - val_loss: 0.5140 - val_mae: 0.5555\n",
            "Epoch 129/200\n",
            "122/122 [==============================] - 0s 3ms/step - loss: 0.5150 - mae: 0.5550 - val_loss: 0.5040 - val_mae: 0.5459\n",
            "Epoch 130/200\n",
            "122/122 [==============================] - 0s 3ms/step - loss: 0.5089 - mae: 0.5496 - val_loss: 0.4899 - val_mae: 0.5399\n",
            "Epoch 131/200\n",
            "122/122 [==============================] - 0s 3ms/step - loss: 0.5114 - mae: 0.5504 - val_loss: 0.4977 - val_mae: 0.5395\n",
            "Epoch 132/200\n",
            "122/122 [==============================] - 0s 3ms/step - loss: 0.5027 - mae: 0.5464 - val_loss: 0.5018 - val_mae: 0.5387\n",
            "Epoch 133/200\n",
            "122/122 [==============================] - 0s 3ms/step - loss: 0.5066 - mae: 0.5501 - val_loss: 0.4980 - val_mae: 0.5367\n",
            "Epoch 134/200\n",
            "122/122 [==============================] - 0s 3ms/step - loss: 0.5089 - mae: 0.5508 - val_loss: 0.4916 - val_mae: 0.5406\n",
            "Epoch 135/200\n",
            "122/122 [==============================] - 0s 3ms/step - loss: 0.5132 - mae: 0.5520 - val_loss: 0.5028 - val_mae: 0.5440\n",
            "Epoch 136/200\n",
            "122/122 [==============================] - 0s 3ms/step - loss: 0.5104 - mae: 0.5512 - val_loss: 0.5143 - val_mae: 0.5470\n",
            "Epoch 137/200\n",
            "122/122 [==============================] - 0s 3ms/step - loss: 0.5045 - mae: 0.5473 - val_loss: 0.5032 - val_mae: 0.5428\n",
            "Epoch 138/200\n",
            "122/122 [==============================] - 0s 3ms/step - loss: 0.5066 - mae: 0.5472 - val_loss: 0.5177 - val_mae: 0.5622\n",
            "Epoch 139/200\n",
            "122/122 [==============================] - 0s 3ms/step - loss: 0.5033 - mae: 0.5475 - val_loss: 0.4946 - val_mae: 0.5420\n",
            "Epoch 140/200\n",
            "122/122 [==============================] - 0s 3ms/step - loss: 0.5013 - mae: 0.5491 - val_loss: 0.4974 - val_mae: 0.5478\n",
            "Epoch 141/200\n",
            "122/122 [==============================] - 0s 3ms/step - loss: 0.5071 - mae: 0.5536 - val_loss: 0.5085 - val_mae: 0.5605\n",
            "Epoch 142/200\n",
            "122/122 [==============================] - 0s 3ms/step - loss: 0.5049 - mae: 0.5490 - val_loss: 0.5060 - val_mae: 0.5452\n",
            "Epoch 143/200\n",
            "122/122 [==============================] - 0s 3ms/step - loss: 0.5003 - mae: 0.5477 - val_loss: 0.5011 - val_mae: 0.5508\n",
            "Epoch 144/200\n",
            "122/122 [==============================] - 0s 3ms/step - loss: 0.5059 - mae: 0.5476 - val_loss: 0.5003 - val_mae: 0.5539\n",
            "Epoch 145/200\n",
            "105/122 [========================>.....] - ETA: 0s - loss: 0.5098 - mae: 0.5554Restoring model weights from the end of the best epoch: 130.\n",
            "122/122 [==============================] - 0s 3ms/step - loss: 0.5019 - mae: 0.5512 - val_loss: 0.4928 - val_mae: 0.5469\n",
            "Epoch 145: early stopping\n"
          ]
        },
        {
          "output_type": "execute_result",
          "data": {
            "text/plain": [
              "<keras.callbacks.History at 0x7df1ce744c40>"
            ]
          },
          "metadata": {},
          "execution_count": 31
        }
      ],
      "source": [
        "## definir el early stopping callback\n",
        "# Código aquí\n",
        "early_stopping_callback = keras.callbacks.EarlyStopping(monitor='val_loss',  patience=15, verbose=1, restore_best_weights=True)\n",
        "model.fit(x_train,\n",
        "          y_train,\n",
        "          epochs=200,\n",
        "          batch_size=32,\n",
        "          validation_split=0.2,\n",
        "          verbose=1,\n",
        "          callbacks=[early_stopping_callback]) # Código aquí"
      ]
    },
    {
      "cell_type": "code",
      "execution_count": 32,
      "id": "pressing-object",
      "metadata": {
        "colab": {
          "base_uri": "https://localhost:8080/"
        },
        "id": "pressing-object",
        "outputId": "ee2064f7-c70f-4424-9741-36ccb128e0b7"
      },
      "outputs": [
        {
          "output_type": "stream",
          "name": "stdout",
          "text": [
            "51/51 [==============================] - 0s 2ms/step - loss: 1.0933 - mae: 0.8405\n",
            "Test Loss: [1.0933414697647095, 0.840474009513855]\n"
          ]
        }
      ],
      "source": [
        "# No modifique el código\n",
        "results = model.evaluate(x_test, y_test, verbose=1)\n",
        "print('Test Loss: {}'.format(results))"
      ]
    },
    {
      "cell_type": "markdown",
      "id": "addressed-lesbian",
      "metadata": {
        "id": "addressed-lesbian"
      },
      "source": [
        "<a name='1.4'></a>\n",
        "## Cuestión 4: ¿Podría haberse usado otra función de activación de la neurona de salida? En caso afirmativo especifíquela."
      ]
    },
    {
      "cell_type": "markdown",
      "id": "ruled-silicon",
      "metadata": {
        "id": "ruled-silicon"
      },
      "source": [
        "Sí, se podría utilizar la función de activación ReLU que mapea los valores negativos a cero y mantiene los valores positivos sin cambios.\n",
        "\n",
        "Sin embargo, es importante tener en cuenta que la función de activación ReLU no restringe la salida a un rango específico. Por lo tanto, si se espera que la calidad del vino esté en un rango decimal específico (por ejemplo, 0-10), se debe tener cuidado al interpretar los resultados, ya que la función de activación ReLU podría producir valores fuera de ese rango."
      ]
    },
    {
      "cell_type": "markdown",
      "id": "robust-christianity",
      "metadata": {
        "id": "robust-christianity"
      },
      "source": [
        "<a name='1.5'></a>\n",
        "## Cuestión 5:  ¿Qué es lo que una neurona calcula?\n",
        "\n",
        "**a)** Una función de activación seguida de una suma ponderada  de las entradas.\n",
        "\n",
        "**b)** Una suma ponderada  de las entradas seguida de una función de activación.\n",
        "\n",
        "**c)** Una función de pérdida, definida sobre el target.\n",
        "\n",
        "**d)** Ninguna  de las anteriores es correcta\n"
      ]
    },
    {
      "cell_type": "markdown",
      "id": "joined-burden",
      "metadata": {
        "id": "joined-burden"
      },
      "source": [
        "La respuesta correcta es la:\n",
        "\n",
        "b)"
      ]
    },
    {
      "cell_type": "markdown",
      "id": "iraqi-european",
      "metadata": {
        "id": "iraqi-european"
      },
      "source": [
        "<a name='1.6'></a>\n",
        "## Cuestión 6:  ¿Cuál de estas funciones de activación no debería usarse en una capa oculta (hidden layer)?\n",
        "\n",
        "**a)** `sigmoid`\n",
        "\n",
        "**b)** `tanh`\n",
        "\n",
        "**c)** `relu`\n",
        "\n",
        "**d)** `linear`\n"
      ]
    },
    {
      "cell_type": "markdown",
      "id": "cardiovascular-attack",
      "metadata": {
        "id": "cardiovascular-attack"
      },
      "source": [
        "La respuesta correcta es la:\n",
        "\n",
        "d)"
      ]
    },
    {
      "cell_type": "markdown",
      "id": "ranging-utilization",
      "metadata": {
        "id": "ranging-utilization"
      },
      "source": [
        "<a name='1.7'></a>\n",
        "## Cuestión 7:  ¿Cuál de estas técnicas es efectiva para combatir el overfitting en una red con varias capas ocultas? Ponga todas las que lo sean.\n",
        "\n",
        "**a)** Dropout\n",
        "\n",
        "**b)** Regularización L2.\n",
        "\n",
        "**c)** Aumentar el tamaño del test set.\n",
        "\n",
        "**d)** Aumentar el tamaño del validation set.\n",
        "\n",
        "**e)** Reducir el número de capas de la red.\n",
        "\n",
        "**f)** Data augmentation."
      ]
    },
    {
      "cell_type": "markdown",
      "id": "accessible-trainer",
      "metadata": {
        "id": "accessible-trainer"
      },
      "source": [
        "Las respuestas correctas son:\n",
        "\n",
        "a)\n",
        "\n",
        "b)\n",
        "\n",
        "e)\n",
        "\n",
        "f)"
      ]
    },
    {
      "cell_type": "markdown",
      "id": "recreational-deposit",
      "metadata": {
        "id": "recreational-deposit"
      },
      "source": [
        "<a name='1.8'></a>\n",
        "## Cuestión 8:  Supongamos que queremos entrenar una red para un problema de clasificación de imágenes con las siguientes clases: {'perro','gato','persona'}. ¿Cuántas neuronas y que función de activación debería tener la capa de salida? ¿Qué función de pérdida (loss function) debería usarse?\n"
      ]
    },
    {
      "cell_type": "markdown",
      "id": "confirmed-roulette",
      "metadata": {
        "id": "confirmed-roulette"
      },
      "source": [
        " Para un problema de clasificación de imágenes con las clases propuestas, la capa de salida debería tener 3 neuronas con una función de activación softmax, y la función de pérdida adecuada sería la entropía cruzada categórica (categorical cross-entropy loss)."
      ]
    },
    {
      "cell_type": "markdown",
      "id": "painful-decade",
      "metadata": {
        "id": "painful-decade"
      },
      "source": [
        "<a name='actividad_2'></a>\n",
        "# Actividad 2: Redes Convolucionales\n",
        "\n",
        "Vamos a usar el dataset [cifar-10](https://www.cs.toronto.edu/~kriz/cifar.html), que son 60000 imágenes de 32x32 a color  con 10 clases diferentes. Para realizar mejor la práctica puede consultar [Introduction_to_CNN.ipynb](https://github.com/ezponda/intro_deep_learning/blob/main/class/CNN/Introduction_to_CNN.ipynb).\n",
        "\n",
        "\n",
        "\n",
        "**Puntuación**:\n",
        "\n",
        "- [Cuestión 1](#2.1): 1 pt\n",
        "- [Cuestión 2](#2.2): 1.5 pt\n",
        "- [Cuestión 3](#2.3): 0.5 pts\n",
        "- [Cuestión 4](#2.4): 0.25 pts\n",
        "- [Cuestión 5](#2.5): 0.25 pts\n",
        "- [Cuestión 6](#2.6): 0.25 pts\n",
        "- [Cuestión 7](#2.7): 0.25 pts\n",
        "\n",
        "\n",
        "\n",
        "\n",
        "Puede normalizar las imágenes al principio o usar la capa [Rescaling](https://www.tensorflow.org/api_docs/python/tf/keras/layers/experimental/preprocessing/Rescaling):\n",
        "\n",
        "```python\n",
        "tf.keras.layers.experimental.preprocessing.Rescaling(\n",
        "    scale, offset=0.0, name=None, **kwargs\n",
        ")\n",
        "```"
      ]
    },
    {
      "cell_type": "code",
      "execution_count": null,
      "id": "incorporate-terrorist",
      "metadata": {
        "id": "incorporate-terrorist"
      },
      "outputs": [],
      "source": [
        "(x_train, y_train), (x_test, y_test) = tf.keras.datasets.cifar10.load_data()\n",
        "y_train = y_train.flatten()\n",
        "y_test = y_test.flatten()"
      ]
    },
    {
      "cell_type": "code",
      "execution_count": null,
      "id": "brazilian-rhythm",
      "metadata": {
        "id": "brazilian-rhythm"
      },
      "outputs": [],
      "source": [
        "class_names = ['airplane', 'automobile', 'bird', 'cat', 'deer',\n",
        "               'dog', 'frog', 'horse', 'ship', 'truck']\n",
        "\n",
        "plt.figure(figsize=(10,10))\n",
        "for i in range(25):\n",
        "    plt.subplot(5,5,i+1)\n",
        "    plt.xticks([])\n",
        "    plt.yticks([])\n",
        "    plt.grid(False)\n",
        "    plt.imshow(x_train[i])\n",
        "    plt.xlabel(class_names[y_train[i]])\n",
        "plt.show()"
      ]
    },
    {
      "cell_type": "code",
      "execution_count": null,
      "id": "extreme-quantum",
      "metadata": {
        "id": "extreme-quantum"
      },
      "outputs": [],
      "source": [
        "print('x_train, y_train shapes:', x_train.shape, y_train.shape)\n",
        "print('x_test, y_test shapes:', x_test.shape, y_test.shape)"
      ]
    },
    {
      "cell_type": "markdown",
      "id": "living-philosophy",
      "metadata": {
        "id": "living-philosophy"
      },
      "source": [
        "<a name='2.1'></a>\n",
        "## Cuestión 1: Cree una red convolucional con la API funcional con al menos dos capas convolucionales y al menos dos capas de pooling. Utilize sólo [Average Pooling](https://www.tensorflow.org/api_docs/python/tf/keras/layers/AveragePooling2D) y no añada ninguna regularización."
      ]
    },
    {
      "cell_type": "code",
      "execution_count": null,
      "id": "atmospheric-sight",
      "metadata": {
        "id": "atmospheric-sight"
      },
      "outputs": [],
      "source": [
        "inputs = tf.keras.Input(shape=..., name='input')\n",
        "# reescaling = ...\n",
        "\n",
        "# Convolution + pooling layers\n",
        "...\n",
        "\n",
        "# Flattening\n",
        "...\n",
        "\n",
        "# Fully-connected\n",
        "outputs = layers.Dense(...)\n",
        "\n",
        "model = keras.Model(inputs=..., outputs=...)"
      ]
    },
    {
      "cell_type": "code",
      "execution_count": null,
      "id": "needed-arena",
      "metadata": {
        "id": "needed-arena"
      },
      "outputs": [],
      "source": [
        "model.compile(optimizer='adam',\n",
        "              loss=tf.keras.losses.SparseCategoricalCrossentropy(),\n",
        "              metrics=['accuracy'])"
      ]
    },
    {
      "cell_type": "code",
      "execution_count": null,
      "id": "pursuant-paper",
      "metadata": {
        "id": "pursuant-paper"
      },
      "outputs": [],
      "source": [
        "history = model.fit(x_train, y_train, epochs=25, batch_size=64,\n",
        "                    validation_split=0.15)"
      ]
    },
    {
      "cell_type": "code",
      "execution_count": null,
      "id": "applicable-honduras",
      "metadata": {
        "id": "applicable-honduras"
      },
      "outputs": [],
      "source": [
        "results = model.evaluate(x_test, y_test, verbose=0, batch_size=1000)\n",
        "print('Test Loss: {}'.format(results[0]))\n",
        "print('Test Accuracy: {}'.format(results[1]))"
      ]
    },
    {
      "cell_type": "markdown",
      "id": "numerous-invite",
      "metadata": {
        "id": "numerous-invite"
      },
      "source": [
        "<a name='2.2'></a>\n",
        "## Cuestión 2: Cree un modelo con la API funcional con un máximo de 2 capas convolucionales y un máximo de 2 capas de pooling. Utilize  [Max Pooling](https://www.tensorflow.org/api_docs/python/tf/keras/layers/MaxPool2D) o [Average Pooling](https://www.tensorflow.org/api_docs/python/tf/keras/layers/AveragePooling2D) y  añada la regularización que quiera. Debe obtener un `Test accuracy > 0.68`"
      ]
    },
    {
      "cell_type": "code",
      "execution_count": null,
      "id": "annual-diploma",
      "metadata": {
        "id": "annual-diploma"
      },
      "outputs": [],
      "source": [
        "inputs = tf.keras.Input(shape=..., name='input')\n",
        "# reescaling = ...\n",
        "\n",
        "# Convolution + pooling layers\n",
        "...\n",
        "\n",
        "# Flattening\n",
        "...\n",
        "\n",
        "# Fully-connected\n",
        "outputs = layers.Dense(...)\n",
        "\n",
        "model = keras.Model(inputs=..., outputs=...)"
      ]
    },
    {
      "cell_type": "code",
      "execution_count": null,
      "id": "indian-messaging",
      "metadata": {
        "id": "indian-messaging"
      },
      "outputs": [],
      "source": [
        "model.compile(optimizer='adam',\n",
        "              loss=tf.keras.losses.SparseCategoricalCrossentropy(),\n",
        "              metrics=['accuracy'])"
      ]
    },
    {
      "cell_type": "code",
      "execution_count": null,
      "id": "functional-republic",
      "metadata": {
        "id": "functional-republic"
      },
      "outputs": [],
      "source": [
        "history = model.fit(x_train, y_train, epochs=..., batch_size=...,\n",
        "                    validation_split=0.15, callbacks=[...])"
      ]
    },
    {
      "cell_type": "code",
      "execution_count": null,
      "id": "incorrect-completion",
      "metadata": {
        "id": "incorrect-completion"
      },
      "outputs": [],
      "source": [
        "results = model.evaluate(x_test, y_test, verbose=0, batch_size=1000)\n",
        "print('Test Loss: {}'.format(results[0]))\n",
        "print('Test Accuracy: {}'.format(results[1]))"
      ]
    },
    {
      "cell_type": "markdown",
      "id": "optical-arizona",
      "metadata": {
        "id": "optical-arizona"
      },
      "source": [
        "<a name='2.3'></a>\n",
        "## Cuestión 3: Añada data augmentation al principio del modelo. No es necesario mejorar el test_loss.\n",
        "\n"
      ]
    },
    {
      "cell_type": "code",
      "execution_count": null,
      "id": "previous-boxing",
      "metadata": {
        "id": "previous-boxing"
      },
      "outputs": [],
      "source": [
        "data_augmentation=..."
      ]
    },
    {
      "cell_type": "code",
      "execution_count": null,
      "id": "comprehensive-directive",
      "metadata": {
        "id": "comprehensive-directive"
      },
      "outputs": [],
      "source": [
        "inputs = tf.keras.Input(shape=..., name='input')\n",
        "data_aug= ...\n",
        "\n",
        "# reescaling = ...\n",
        "\n",
        "# Convolution + pooling layers\n",
        "...\n",
        "\n",
        "# Flattening\n",
        "...\n",
        "\n",
        "# Fully-connected\n",
        "outputs = layers.Dense(...)\n",
        "\n",
        "model = keras.Model(inputs=..., outputs=...)"
      ]
    },
    {
      "cell_type": "code",
      "execution_count": null,
      "id": "statutory-covering",
      "metadata": {
        "id": "statutory-covering"
      },
      "outputs": [],
      "source": [
        "model.compile(optimizer='adam',\n",
        "              loss=tf.keras.losses.SparseCategoricalCrossentropy(),\n",
        "              metrics=['accuracy'])"
      ]
    },
    {
      "cell_type": "code",
      "execution_count": null,
      "id": "western-energy",
      "metadata": {
        "id": "western-energy"
      },
      "outputs": [],
      "source": [
        "history = model.fit(x_train, y_train, epochs=..., batch_size=...,\n",
        "                    validation_split=0.15, callbacks=lbacks=[...])"
      ]
    },
    {
      "cell_type": "code",
      "execution_count": null,
      "id": "classical-charm",
      "metadata": {
        "id": "classical-charm"
      },
      "outputs": [],
      "source": [
        "results = model.evaluate(x_test, y_test, verbose=0, batch_size=1000)\n",
        "print('Test Loss: {}'.format(results[0]))\n",
        "print('Test Accuracy: {}'.format(results[1]))"
      ]
    },
    {
      "cell_type": "markdown",
      "id": "sweet-implement",
      "metadata": {
        "id": "sweet-implement"
      },
      "source": [
        "<a name='2.4'></a>\n",
        "## Cuestión 4: Cree el mismo  modelo de manera secuencial. No es necesario compilar ni entrenar el modelo"
      ]
    },
    {
      "cell_type": "code",
      "execution_count": null,
      "id": "auburn-lawrence",
      "metadata": {
        "id": "auburn-lawrence"
      },
      "outputs": [],
      "source": [
        "model_seq = tf.keras.models.Sequential()\n",
        "# Código aquí\n",
        "..."
      ]
    },
    {
      "cell_type": "markdown",
      "id": "present-consortium",
      "metadata": {
        "id": "present-consortium"
      },
      "source": [
        "<a name='2.5'></a>\n",
        "## Cuestión 5: Si tenenemos una  una imagen de entrada de 300 x 300 a color (RGB) y queremos usar una red densa. Si la primera capa oculta tiene 100 neuronas, ¿Cuántos parámetros tendrá esa capa (sin incluir el bias) ?\n"
      ]
    },
    {
      "cell_type": "markdown",
      "id": "novel-calcium",
      "metadata": {
        "id": "novel-calcium"
      },
      "source": []
    },
    {
      "cell_type": "markdown",
      "id": "complicated-positive",
      "metadata": {
        "id": "complicated-positive"
      },
      "source": [
        "<a name='2.6'></a>\n",
        "## Cuestión 6   Ponga  las verdaderas ventajas de las redes convolucionales respecto a las densas\n",
        "\n",
        "**a)** Reducen el número total de parámetros, reduciendo así el overfitting.\n",
        "\n",
        "**b)** Permiten utilizar una misma 'función'  en varias localizaciones de la imagen de entrada, en lugar de aprender una función diferente para cada pixel.\n",
        "\n",
        "**c)** Permiten el uso del transfer learning.\n",
        "\n",
        "**d)** Generalmente son menos profundas, lo que facilita su entrenamiento.\n",
        "\n"
      ]
    },
    {
      "cell_type": "markdown",
      "id": "dirty-nirvana",
      "metadata": {
        "id": "dirty-nirvana"
      },
      "source": []
    },
    {
      "cell_type": "markdown",
      "id": "first-toyota",
      "metadata": {
        "id": "first-toyota"
      },
      "source": [
        "<a name='2.7'></a>\n",
        "## Cuestión 7: Para el procesamiento de series temporales las redes convolucionales no son efectivas, habrá que usar redes recurrentes.\n",
        "\n",
        "- **Verdadero**\n",
        "- **Falso**"
      ]
    },
    {
      "cell_type": "markdown",
      "id": "frequent-seven",
      "metadata": {
        "id": "frequent-seven"
      },
      "source": []
    },
    {
      "cell_type": "markdown",
      "id": "regional-favorite",
      "metadata": {
        "id": "regional-favorite"
      },
      "source": [
        "<a name='actividad_3'></a>\n",
        "# Actividad 3: Redes Recurrentes\n",
        "\n",
        "\n",
        "- [Cuestión 1](#3.1): 0.5 pt\n",
        "- [Cuestión 2](#3.2): 0.5 pt\n",
        "- [Cuestión 3](#3.3): 0.5 pts\n",
        "- [Cuestión 4](#3.4): 0.25 pts\n",
        "- [Cuestión 5](#3.5): 0.25 pts\n",
        "\n",
        "Vamos a usar un dataset de las temperaturas mínimas diarias en Melbourne. La tarea será la de predecir la temperatura mínima en dos días. Puedes usar técnicas de series temporales vistas en otras asignaturas, pero no es necesario.\n"
      ]
    },
    {
      "cell_type": "code",
      "execution_count": null,
      "id": "empty-value",
      "metadata": {
        "id": "empty-value"
      },
      "outputs": [],
      "source": [
        "dataset_url = 'https://raw.githubusercontent.com/jbrownlee/Datasets/master/daily-min-temperatures.csv'\n",
        "data_dir = tf.keras.utils.get_file('daily-min-temperatures.csv', origin=dataset_url)"
      ]
    },
    {
      "cell_type": "code",
      "execution_count": null,
      "id": "numerous-situation",
      "metadata": {
        "id": "numerous-situation"
      },
      "outputs": [],
      "source": [
        "df = pd.read_csv(data_dir, parse_dates=['Date'])\n",
        "df.head()"
      ]
    },
    {
      "cell_type": "code",
      "execution_count": null,
      "id": "copyrighted-madonna",
      "metadata": {
        "id": "copyrighted-madonna"
      },
      "outputs": [],
      "source": [
        "temperatures = df['Temp'].values\n",
        "print('number of samples:', len(temperatures))\n",
        "train_data = temperatures[:3000]\n",
        "test_data = temperatures[3000:]\n",
        "print('number of train samples:', len(train_data))\n",
        "print('number of test samples:', len(test_data))\n",
        "print('firsts trainn samples:', train_data[:10])"
      ]
    },
    {
      "cell_type": "markdown",
      "id": "adapted-brief",
      "metadata": {
        "id": "adapted-brief"
      },
      "source": [
        "<a name='3.1'></a>\n",
        "## Cuestión 1: Convierta `train_data` y `test_data`  en ventanas de tamaño 5, para predecir el valor en 2 días\n",
        "\n",
        "En la nomenclatura de [Introduction_to_RNN_Time_Series.ipynb](https://github.com/ezponda/intro_deep_learning/blob/main/class/RNN/Introduction_to_RNN_Time_Series.ipynb)\n",
        "```python\n",
        "win_size, horizon = (5, 2)\n",
        "```\n",
        "\n",
        "Para las primeras 10 muestras de train_data `[20.7, 17.9, 18.8, 14.6, 15.8, 15.8, 15.8, 17.4, 21.8, 20. ]` el resultado debería ser:\n",
        "\n",
        "```python\n",
        "x[0] : [20.7, 17.9, 18.8, 14.6, 15.8] , y[0]: 15.8\n",
        "x[1] : [17.9, 18.8, 14.6, 15.8, 15.8] , y[1]: 17.4\n",
        "x[2] : [18.8, 14.6, 15.8, 15.8, 15.8] , y[2]: 21.8\n",
        "x[3] : [14.6, 15.8, 15.8, 15.8, 17.4] , y[3]: 20.             \n",
        "```"
      ]
    },
    {
      "cell_type": "code",
      "execution_count": null,
      "id": "conscious-teaching",
      "metadata": {
        "id": "conscious-teaching"
      },
      "outputs": [],
      "source": [
        "# windowing function"
      ]
    },
    {
      "cell_type": "code",
      "execution_count": null,
      "id": "joint-annotation",
      "metadata": {
        "id": "joint-annotation"
      },
      "outputs": [],
      "source": [
        "win_size, horizon = (5, 2)\n",
        "\n",
        "# Puede usar np\n",
        "# X_train, y_train = ...\n",
        "# X_test, y_test = ...\n",
        "# Puede usar tf.data datasets también\n",
        "# dataset_train = ...\n",
        "# dataset_test = ..."
      ]
    },
    {
      "cell_type": "markdown",
      "id": "electrical-junior",
      "metadata": {
        "id": "electrical-junior"
      },
      "source": [
        "<a name='3.2'></a>\n",
        "## Cuestión 2: Cree un modelo recurrente de dos capas GRU para predecir con las ventanas de la cuestión anterior.\n"
      ]
    },
    {
      "cell_type": "code",
      "execution_count": null,
      "id": "aboriginal-complaint",
      "metadata": {
        "id": "aboriginal-complaint"
      },
      "outputs": [],
      "source": [
        "inputs = keras.layers.Input(shape=(..., ...))\n",
        "...\n",
        "model = keras.Model(inputs=..., outputs=...)\n",
        "model.compile(...)\n",
        "model.summary()"
      ]
    },
    {
      "cell_type": "code",
      "execution_count": null,
      "id": "applicable-longer",
      "metadata": {
        "id": "applicable-longer"
      },
      "outputs": [],
      "source": [
        "es_callback = keras.callbacks.EarlyStopping(\n",
        "    monitor=\"val_loss\", min_delta=0, patience=10)\n",
        "\n",
        "history = model.fit(\n",
        "    ...,\n",
        "    epochs=200,\n",
        "    validation_split=0.2, shuffle=True, batch_size = 64, callbacks=[es_callback]\n",
        ")"
      ]
    },
    {
      "cell_type": "code",
      "execution_count": null,
      "id": "stone-province",
      "metadata": {
        "id": "stone-province"
      },
      "outputs": [],
      "source": [
        "results = model.evaluate(..., verbose=1)\n",
        "print('Test Loss: {}'.format(results))"
      ]
    },
    {
      "cell_type": "markdown",
      "id": "genetic-guitar",
      "metadata": {
        "id": "genetic-guitar"
      },
      "source": [
        "<a name='3.3'></a>\n",
        "## Cuestión 3: Añada más features a la series temporal, por ejemplo `portion_year`. Cree un modelo que mejore al anterior.\n"
      ]
    },
    {
      "cell_type": "code",
      "execution_count": null,
      "id": "prospective-master",
      "metadata": {
        "id": "prospective-master"
      },
      "outputs": [],
      "source": [
        "## Puede añadir más features\n",
        "df['portion_year'] = df['Date'].dt.dayofyear / 365.0\n",
        "df_multi = df[['Temp', 'portion_year']].copy()\n",
        "\n",
        "## train - test split\n",
        "train_data = df_multi.iloc[:3000].copy()\n",
        "test_data = df_multi.loc[3000:, :].copy()"
      ]
    },
    {
      "cell_type": "code",
      "execution_count": null,
      "id": "threaded-sheriff",
      "metadata": {
        "id": "threaded-sheriff"
      },
      "outputs": [],
      "source": [
        "## Create windows\n",
        "# Puede usar numpy\n",
        "# X_train, y_train = ...\n",
        "# X_test, y_test = ...\n",
        "\n",
        "# Pueden usar tf.data datasets también\n",
        "# dataset_train = ...\n",
        "# dataset_test = ..."
      ]
    },
    {
      "cell_type": "code",
      "execution_count": null,
      "id": "stable-estate",
      "metadata": {
        "id": "stable-estate"
      },
      "outputs": [],
      "source": [
        "inputs = keras.layers.Input(shape=(..., ...))\n",
        "...\n",
        "model = keras.Model(inputs=..., outputs=...)\n",
        "model.compile(...)\n",
        "model.summary()"
      ]
    },
    {
      "cell_type": "code",
      "execution_count": null,
      "id": "structured-philip",
      "metadata": {
        "id": "structured-philip"
      },
      "outputs": [],
      "source": [
        "es_callback = keras.callbacks.EarlyStopping(\n",
        "    monitor=\"val_loss\", min_delta=0, patience=10)\n",
        "\n",
        "\n",
        "history = model.fit(\n",
        "    ...,\n",
        "    epochs=200,\n",
        "    validation_split=0.2, shuffle=True, batch_size = 64, callbacks=[es_callback]\n",
        ")\n",
        "\n",
        "# si ha usado datasets:\n",
        "# history = model.fit(dataset_train, epochs=200, validation_data=..., callbacks=[...])"
      ]
    },
    {
      "cell_type": "code",
      "execution_count": null,
      "id": "assigned-afternoon",
      "metadata": {
        "id": "assigned-afternoon"
      },
      "outputs": [],
      "source": [
        "results = model.evaluate(..., verbose=1)\n",
        "print('Test Loss: {}'.format(results))"
      ]
    },
    {
      "cell_type": "markdown",
      "id": "precise-tract",
      "metadata": {
        "id": "precise-tract"
      },
      "source": [
        "<a name='3.4'></a>\n",
        "## Cuestión 4: ¿En cuáles de estas aplicaciones se usaría un arquitectura 'many-to-one'?\n",
        "\n",
        "**a)** Clasificación de sentimiento en textos\n",
        "\n",
        "**b)** Verificación de voz para iniciar el ordenador.\n",
        "\n",
        "**c)** Generación de música.\n",
        "\n",
        "**d)** Un clasificador que clasifique piezas de música según su autor.\n"
      ]
    },
    {
      "cell_type": "markdown",
      "id": "professional-mayor",
      "metadata": {
        "id": "professional-mayor"
      },
      "source": []
    },
    {
      "cell_type": "markdown",
      "id": "fallen-error",
      "metadata": {
        "id": "fallen-error"
      },
      "source": [
        "<a name='3.5'></a>\n",
        "## Cuestión 5: ¿Qué ventajas aporta el uso de word embeddings?\n",
        "\n",
        "**a)** Permiten reducir la dimensión de entrada respecto al one-hot encoding.\n",
        "\n",
        "**b)** Permiten descubrir la similaridad entre palabras de manera más intuitiva que con one-hot encoding.\n",
        "\n",
        "**c)** Son una manera de realizar transfer learning en nlp.\n",
        "\n",
        "**d)** Permiten visualizar las relaciones entre palabras con métodos de reducción de dimensioones como el PCA.\n"
      ]
    },
    {
      "cell_type": "markdown",
      "id": "stylish-polish",
      "metadata": {
        "id": "stylish-polish"
      },
      "source": []
    }
  ],
  "metadata": {
    "kernelspec": {
      "display_name": "Python 3.9 (tensorflow)",
      "language": "python",
      "name": "tensorflow"
    },
    "language_info": {
      "codemirror_mode": {
        "name": "ipython",
        "version": 3
      },
      "file_extension": ".py",
      "mimetype": "text/x-python",
      "name": "python",
      "nbconvert_exporter": "python",
      "pygments_lexer": "ipython3",
      "version": "3.9.7"
    },
    "latex_envs": {
      "LaTeX_envs_menu_present": true,
      "autoclose": false,
      "autocomplete": true,
      "bibliofile": "biblio.bib",
      "cite_by": "apalike",
      "current_citInitial": 1,
      "eqLabelWithNumbers": true,
      "eqNumInitial": 1,
      "hotkeys": {
        "equation": "Ctrl-E",
        "itemize": "Ctrl-I"
      },
      "labels_anchors": false,
      "latex_user_defs": false,
      "report_style_numbering": false,
      "user_envs_cfg": false
    },
    "toc": {
      "base_numbering": 1,
      "nav_menu": {},
      "number_sections": true,
      "sideBar": true,
      "skip_h1_title": false,
      "title_cell": "Table of Contents",
      "title_sidebar": "Contents",
      "toc_cell": false,
      "toc_position": {},
      "toc_section_display": true,
      "toc_window_display": false
    },
    "colab": {
      "provenance": []
    }
  },
  "nbformat": 4,
  "nbformat_minor": 5
}